{
 "cells": [
  {
   "cell_type": "markdown",
   "metadata": {},
   "source": [
    "# 167 两树之和"
   ]
  },
  {
   "cell_type": "markdown",
   "metadata": {},
   "source": [
    "给你一个下标从 1 开始的整数数组 numbers ，该数组已按 非递减顺序排列  ，请你从数组中找出满足相加之和等于目标数 target 的两个数。如果设这两个数分别是 numbers[index1] 和 numbers[index2] ，则 1 <= index1 < index2 <= numbers.length 。\n",
    "\n",
    "以长度为 2 的整数数组 [index1, index2] 的形式返回这两个整数的下标 index1 和 index2。\n",
    "\n",
    "你可以假设每个输入 只对应唯一的答案 ，而且你 不可以 重复使用相同的元素。\n",
    "\n",
    "你所设计的解决方案必须只使用常量级的额外空间。\n",
    "\n",
    " \n",
    "示例 1：\n",
    "\n",
    "输入：numbers = [2,7,11,15], target = 9\n",
    "输出：[1,2]\n",
    "解释：2 与 7 之和等于目标数 9 。因此 index1 = 1, index2 = 2 。返回 [1, 2] 。\n",
    "示例 2：\n",
    "\n",
    "输入：numbers = [2,3,4], target = 6\n",
    "输出：[1,3]\n",
    "解释：2 与 4 之和等于目标数 6 。因此 index1 = 1, index2 = 3 。返回 [1, 3] 。\n",
    "示例 3：\n",
    "\n",
    "输入：numbers = [-1,0], target = -1\n",
    "输出：[1,2]\n",
    "解释：-1 与 0 之和等于目标数 -1 。因此 index1 = 1, index2 = 2 。返回 [1, 2] 。\n",
    " \n",
    "\n",
    "提示：\n",
    "\n",
    "2 <= numbers.length <= 3 * 104\n",
    "-1000 <= numbers[i] <= 1000\n",
    "numbers 按 非递减顺序 排列\n",
    "-1000 <= target <= 1000\n",
    "仅存在一个有效答案"
   ]
  },
  {
   "cell_type": "code",
   "execution_count": null,
   "metadata": {},
   "outputs": [
    {
     "name": "stdout",
     "output_type": "stream",
     "text": [
      "[1, 2]\n"
     ]
    }
   ],
   "source": [
    "def twosum(numbers, target):\n",
    "    #时间为O(n)\n",
    "    #空间为O(1)\n",
    "    left, right = 0, len(numbers)-1\n",
    "    while left < right:\n",
    "        s = numbers[left] + numbers[right]\n",
    "        if  s == target: return [left+1, right+1]\n",
    "        elif s > target: right -= 1\n",
    "        else : left += 1\n",
    "numbers = [2,7,11,15]\n",
    "target = 9\n",
    "print(twosum(numbers, target))"
   ]
  },
  {
   "cell_type": "markdown",
   "metadata": {},
   "source": [
    "# 15 三数之和"
   ]
  },
  {
   "cell_type": "markdown",
   "metadata": {},
   "source": [
    "给你一个整数数组 nums ，判断是否存在三元组 [nums[i], nums[j], nums[k]] 满足 i != j、i != k 且 j != k ，同时还满足 nums[i] + nums[j] + nums[k] == 0 。请你返回所有和为 0 且不重复的三元组。\n",
    "\n",
    "注意：答案中不可以包含重复的三元组。\n",
    "\n",
    " \n",
    "\n",
    " \n",
    "\n",
    "示例 1：\n",
    "\n",
    "输入：nums = [-1,0,1,2,-1,-4]\n",
    "输出：[[-1,-1,2],[-1,0,1]]\n",
    "解释：\n",
    "nums[0] + nums[1] + nums[2] = (-1) + 0 + 1 = 0 。\n",
    "nums[1] + nums[2] + nums[4] = 0 + 1 + (-1) = 0 。\n",
    "nums[0] + nums[3] + nums[4] = (-1) + 2 + (-1) = 0 。\n",
    "不同的三元组是 [-1,0,1] 和 [-1,-1,2] 。\n",
    "注意，输出的顺序和三元组的顺序并不重要。  \n",
    "示例 2：\n",
    "\n",
    "输入：nums = [0,1,1]\n",
    "输出：[]\n",
    "解释：唯一可能的三元组和不为 0 。\n",
    "示例 3：\n",
    "\n",
    "输入：nums = [0,0,0]\n",
    "输出：[[0,0,0]]\n",
    "解释：唯一可能的三元组和为 0 。"
   ]
  },
  {
   "cell_type": "code",
   "execution_count": 3,
   "metadata": {},
   "outputs": [
    {
     "name": "stdout",
     "output_type": "stream",
     "text": [
      "[[0, 0, 0]]\n"
     ]
    }
   ],
   "source": [
    "def threesum(numbers, target):\n",
    "    #.sort排序的时间复杂度为O(nlogn)\n",
    "    #时间复杂度\n",
    "    #空间复杂度\n",
    "    #三个指针，i。left(l), right(r)\n",
    "    numbers.sort()\n",
    "    ans = []\n",
    "    n = len(numbers)\n",
    "    for i in range(n-2):\n",
    "        if i > 0 and numbers[i] == numbers[i-1]:\n",
    "            continue\n",
    "    \n",
    "        l = i+1\n",
    "        r = n-1\n",
    "        while l < r:\n",
    "            s = numbers[i] + numbers[l] + numbers[r]\n",
    "            if s == target:\n",
    "                ans.append([numbers[i], numbers[l], numbers[r]])\n",
    "                l += 1\n",
    "                while l < r and numbers[l] == numbers[l-1]: l += 1\n",
    "\n",
    "                r -= 1\n",
    "                while l < r and numbers[r] == numbers[r+1]: r -= 1\n",
    "            elif s > target:\n",
    "                r -= 1\n",
    "            else:\n",
    "                l += 1\n",
    "    return ans\n",
    "\n",
    "numbers = [0,0,0,0]\n",
    "target = 0\n",
    "print(threesum(numbers, target))\n",
    "\n",
    "\n",
    "\n",
    "\n",
    "\n",
    "\n"
   ]
  }
 ],
 "metadata": {
  "kernelspec": {
   "display_name": "Python 3",
   "language": "python",
   "name": "python3"
  },
  "language_info": {
   "codemirror_mode": {
    "name": "ipython",
    "version": 3
   },
   "file_extension": ".py",
   "mimetype": "text/x-python",
   "name": "python",
   "nbconvert_exporter": "python",
   "pygments_lexer": "ipython3",
   "version": "3.12.1"
  }
 },
 "nbformat": 4,
 "nbformat_minor": 2
}
