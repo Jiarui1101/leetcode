{
 "cells": [
  {
   "cell_type": "markdown",
   "metadata": {},
   "source": [
    "# 167 两数之和"
   ]
  },
  {
   "cell_type": "markdown",
   "metadata": {},
   "source": [
    "给你一个下标从 1 开始的整数数组 numbers ，该数组已按 非递减顺序排列  ，请你从数组中找出满足相加之和等于目标数 target 的两个数。如果设这两个数分别是 numbers[index1] 和 numbers[index2] ，则 1 <= index1 < index2 <= numbers.length 。\n",
    "\n",
    "以长度为 2 的整数数组 [index1, index2] 的形式返回这两个整数的下标 index1 和 index2。\n",
    "\n",
    "你可以假设每个输入 只对应唯一的答案 ，而且你 不可以 重复使用相同的元素。\n",
    "\n",
    "你所设计的解决方案必须只使用常量级的额外空间。\n",
    "\n",
    " \n",
    "示例 1：\n",
    "\n",
    "输入：numbers = [2,7,11,15], target = 9\n",
    "输出：[1,2]\n",
    "解释：2 与 7 之和等于目标数 9 。因此 index1 = 1, index2 = 2 。返回 [1, 2] 。\n",
    "示例 2：\n",
    "\n",
    "输入：numbers = [2,3,4], target = 6\n",
    "输出：[1,3]\n",
    "解释：2 与 4 之和等于目标数 6 。因此 index1 = 1, index2 = 3 。返回 [1, 3] 。\n",
    "示例 3：\n",
    "\n",
    "输入：numbers = [-1,0], target = -1\n",
    "输出：[1,2]\n",
    "解释：-1 与 0 之和等于目标数 -1 。因此 index1 = 1, index2 = 2 。返回 [1, 2] 。\n",
    " \n",
    "\n",
    "提示：\n",
    "\n",
    "2 <= numbers.length <= 3 * 104\n",
    "-1000 <= numbers[i] <= 1000\n",
    "numbers 按 非递减顺序 排列\n",
    "-1000 <= target <= 1000\n",
    "仅存在一个有效答案"
   ]
  },
  {
   "cell_type": "code",
   "execution_count": null,
   "metadata": {},
   "outputs": [
    {
     "name": "stdout",
     "output_type": "stream",
     "text": [
      "[1, 2]\n"
     ]
    }
   ],
   "source": [
    "def twosum(numbers, target):\n",
    "    #时间为O(n)\n",
    "    #空间为O(1)\n",
    "    left, right = 0, len(numbers)-1\n",
    "    while left < right:\n",
    "        s = numbers[left] + numbers[right]\n",
    "        if  s == target: return [left+1, right+1]\n",
    "        elif s > target: right -= 1\n",
    "        else : left += 1\n",
    "numbers = [2,7,11,15]\n",
    "target = 9\n",
    "print(twosum(numbers, target))"
   ]
  },
  {
   "cell_type": "markdown",
   "metadata": {},
   "source": [
    "# 15 三数之和"
   ]
  },
  {
   "cell_type": "markdown",
   "metadata": {},
   "source": [
    "给你一个整数数组 nums ，判断是否存在三元组 [nums[i], nums[j], nums[k]] 满足 i != j、i != k 且 j != k ，同时还满足 nums[i] + nums[j] + nums[k] == 0 。请你返回所有和为 0 且不重复的三元组。\n",
    "\n",
    "注意：答案中不可以包含重复的三元组。\n",
    "\n",
    " \n",
    "\n",
    " \n",
    "\n",
    "示例 1：\n",
    "\n",
    "输入：nums = [-1,0,1,2,-1,-4]\n",
    "输出：[[-1,-1,2],[-1,0,1]]\n",
    "解释：\n",
    "nums[0] + nums[1] + nums[2] = (-1) + 0 + 1 = 0 。\n",
    "nums[1] + nums[2] + nums[4] = 0 + 1 + (-1) = 0 。\n",
    "nums[0] + nums[3] + nums[4] = (-1) + 2 + (-1) = 0 。\n",
    "不同的三元组是 [-1,0,1] 和 [-1,-1,2] 。\n",
    "注意，输出的顺序和三元组的顺序并不重要。  \n",
    "示例 2：\n",
    "\n",
    "输入：nums = [0,1,1]\n",
    "输出：[]\n",
    "解释：唯一可能的三元组和不为 0 。\n",
    "示例 3：\n",
    "\n",
    "输入：nums = [0,0,0]\n",
    "输出：[[0,0,0]]\n",
    "解释：唯一可能的三元组和为 0 。"
   ]
  },
  {
   "cell_type": "code",
   "execution_count": null,
   "metadata": {},
   "outputs": [
    {
     "name": "stdout",
     "output_type": "stream",
     "text": [
      "[[0, 0, 0]]\n"
     ]
    }
   ],
   "source": [
    "def threesum(numbers, target):\n",
    "    #.sort排序的时间复杂度为O(nlogn)\n",
    "    #时间复杂度O(n^2)\n",
    "    #空间复杂度O(1)\n",
    "    #三个指针，i。left(l), right(r)\n",
    "    numbers.sort()\n",
    "    ans = []\n",
    "    n = len(numbers)\n",
    "    for i in range(n-2):\n",
    "        if i > 0 and numbers[i] == numbers[i-1]:\n",
    "            continue\n",
    "    \n",
    "        l = i+1\n",
    "        r = n-1\n",
    "        while l < r:\n",
    "            s = numbers[i] + numbers[l] + numbers[r]\n",
    "            if s == target:\n",
    "                ans.append([numbers[i], numbers[l], numbers[r]])\n",
    "                l += 1\n",
    "                while l < r and numbers[l] == numbers[l-1]: l += 1\n",
    "                r -= 1\n",
    "                while l < r and numbers[r] == numbers[r+1]: r -= 1\n",
    "            elif s > target:\n",
    "                r -= 1\n",
    "            else:\n",
    "                l += 1\n",
    "    return ans\n",
    "\n",
    "numbers = [0,0,0,0]\n",
    "target = 0\n",
    "print(threesum(numbers, target))"
   ]
  },
  {
   "cell_type": "markdown",
   "metadata": {},
   "source": [
    "# 2824. 统计和小于目标的下标对数目"
   ]
  },
  {
   "cell_type": "markdown",
   "metadata": {},
   "source": [
    "给你一个下标从 0 开始长度为 n 的整数数组 nums 和一个整数 target ，请你返回满足 0 <= i < j < n 且 nums[i] + nums[j] < target 的下标对 (i, j) 的数目。\n",
    " \n",
    "\n",
    "示例 1：\n",
    "\n",
    "输入：nums = [-1,1,2,3,1], target = 2\n",
    "输出：3\n",
    "解释：总共有 3 个下标对满足题目描述：\n",
    "- (0, 1) ，0 < 1 且 nums[0] + nums[1] = 0 < target\n",
    "- (0, 2) ，0 < 2 且 nums[0] + nums[2] = 1 < target \n",
    "- (0, 4) ，0 < 4 且 nums[0] + nums[4] = 0 < target\n",
    "注意 (0, 3) 不计入答案因为 nums[0] + nums[3] 不是严格小于 target 。\n",
    "示例 2：\n",
    "\n",
    "输入：nums = [-6,2,5,-2,-7,-1,3], target = -2\n",
    "输出：10\n",
    "解释：总共有 10 个下标对满足题目描述：\n",
    "- (0, 1) ，0 < 1 且 nums[0] + nums[1] = -4 < target\n",
    "- (0, 3) ，0 < 3 且 nums[0] + nums[3] = -8 < target\n",
    "- (0, 4) ，0 < 4 且 nums[0] + nums[4] = -13 < target\n",
    "- (0, 5) ，0 < 5 且 nums[0] + nums[5] = -7 < target\n",
    "- (0, 6) ，0 < 6 且 nums[0] + nums[6] = -3 < target\n",
    "- (1, 4) ，1 < 4 且 nums[1] + nums[4] = -5 < target\n",
    "- (3, 4) ，3 < 4 且 nums[3] + nums[4] = -9 < target\n",
    "- (3, 5) ，3 < 5 且 nums[3] + nums[5] = -3 < target\n",
    "- (4, 5) ，4 < 5 且 nums[4] + nums[5] = -8 < target\n",
    "- (4, 6) ，4 < 6 且 nums[4] + nums[6] = -4 < target\n",
    " \n",
    "\n",
    "提示：\n",
    "\n",
    "1 <= nums.length == n <= 50\n",
    "-50 <= nums[i], target <= 50"
   ]
  },
  {
   "cell_type": "code",
   "execution_count": 1,
   "metadata": {},
   "outputs": [
    {
     "data": {
      "text/plain": [
       "3"
      ]
     },
     "execution_count": 1,
     "metadata": {},
     "output_type": "execute_result"
    }
   ],
   "source": [
    "def f2824(nums, target):\n",
    "    # 时间复杂度：O(nlogn)，其中 n 为 nums 的长度。瓶颈在排序上。\n",
    "    # 空间复杂度：O(1)。不计入排序的栈开销，仅用到若干额外变量。\n",
    "    nums.sort()\n",
    "    n = len(nums)\n",
    "    left, right = 0, n-1\n",
    "    ans = 0\n",
    "    while left < right:\n",
    "        s = nums[left] + nums[right]\n",
    "        if s < target:\n",
    "            ans += right - left\n",
    "            left += 1\n",
    "        else:\n",
    "            right -= 1\n",
    "    return ans \n",
    "nums = [-1,1,2,3,1]\n",
    "target = 2\n",
    "f2824(nums, target)"
   ]
  },
  {
   "cell_type": "markdown",
   "metadata": {},
   "source": [
    "# 16. 最接近的三数之和"
   ]
  },
  {
   "cell_type": "markdown",
   "metadata": {},
   "source": [
    "给你一个长度为 n 的整数数组 nums 和 一个目标值 target。请你从 nums 中选出三个整数，使它们的和与 target 最接近。\n",
    "\n",
    "返回这三个数的和。\n",
    "\n",
    "假定每组输入只存在恰好一个解。\n",
    "\n",
    " \n",
    "\n",
    "示例 1：\n",
    "\n",
    "输入：nums = [-1,2,1,-4], target = 1\n",
    "输出：2\n",
    "解释：与 target 最接近的和是 2 (-1 + 2 + 1 = 2)。\n",
    "示例 2：\n",
    "\n",
    "输入：nums = [0,0,0], target = 1\n",
    "输出：0\n",
    "解释：与 target 最接近的和是 0（0 + 0 + 0 = 0）。\n",
    " \n",
    "\n",
    "提示：\n",
    "\n",
    "3 <= nums.length <= 1000\n",
    "-1000 <= nums[i] <= 1000\n",
    "-104 <= target <= 104"
   ]
  },
  {
   "cell_type": "code",
   "execution_count": null,
   "metadata": {},
   "outputs": [],
   "source": [
    "def f16(nums, target):\n",
    "    #时间复杂度：O(n^2)，其中 n 为 nums 的长度。排序 O(nlogn)。外层循环枚举第一个数，然后 O(n) 双指针。\n",
    "    #空间复杂度：O(1)。返回值不计入，忽略排序的栈开销。\n",
    "    nums.sort()\n",
    "    n = len(nums)\n",
    "    min_diff = float(\"inf\")\n",
    "    ans = 0\n",
    "    for i in range(n-2):\n",
    "        l, r = i+1, n-1\n",
    "        while l < r:\n",
    "            s = nums[i] + nums[l] + nums[r]\n",
    "            if s == target:\n",
    "                return s\n",
    "            elif s > target:\n",
    "                if s - target < min_diff:\n",
    "                    min_diff = min(min_diff, s - target)\n",
    "                    ans = s\n",
    "                r -= 1\n",
    "            else:\n",
    "                if target - s < min_diff:\n",
    "                    min_diff = min(min_diff, target - s)\n",
    "                    ans = s\n",
    "                l += 1\n",
    "    return ans "
   ]
  },
  {
   "cell_type": "markdown",
   "metadata": {},
   "source": [
    "# 18. 四数之和"
   ]
  },
  {
   "cell_type": "markdown",
   "metadata": {},
   "source": [
    "给你一个由 n 个整数组成的数组 nums ，和一个目标值 target 。请你找出并返回满足下述全部条件且不重复的四元组 [nums[a], nums[b], nums[c], nums[d]] （若两个四元组元素一一对应，则认为两个四元组重复）：\n",
    "\n",
    "0 <= a, b, c, d < n\n",
    "a、b、c 和 d 互不相同\n",
    "nums[a] + nums[b] + nums[c] + nums[d] == target\n",
    "你可以按 任意顺序 返回答案 。\n",
    "\n",
    " \n",
    "\n",
    "示例 1：\n",
    "\n",
    "输入：nums = [1,0,-1,0,-2,2], target = 0\n",
    "输出：[[-2,-1,1,2],[-2,0,0,2],[-1,0,0,1]]\n",
    "示例 2：\n",
    "\n",
    "输入：nums = [2,2,2,2,2], target = 8\n",
    "输出：[[2,2,2,2]]\n",
    " \n",
    "\n",
    "提示：\n",
    "\n",
    "1 <= nums.length <= 200\n",
    "-109 <= nums[i] <= 109\n",
    "-109 <= target <= 109"
   ]
  },
  {
   "cell_type": "code",
   "execution_count": null,
   "metadata": {},
   "outputs": [],
   "source": [
    "def f18(nums, target):\n",
    "    # 时间复杂度：O(n^3)\n",
    "    # 空间复杂度：O(1)\n",
    "    nums.sort()\n",
    "    ans = []\n",
    "    n = len(nums)\n",
    "    for a in range(n-3):\n",
    "        if a and nums[a] == nums[a-1]:\n",
    "            continue\n",
    "        if nums[a] + nums[a+1] + nums[a+2] + nums[a+3] > target:\n",
    "            break\n",
    "        for b in range(a+1, n-2):\n",
    "            if b > a + 1 and nums[b] == nums[b-1]:\n",
    "                continue\n",
    "            c = b + 1\n",
    "            d = n - 1\n",
    "            while c < d:\n",
    "                s = nums[a] + nums[b] + nums[c] + nums[d]\n",
    "                if s > target:\n",
    "                    d -= 1\n",
    "                elif s < target:\n",
    "                    c += 1\n",
    "                else:\n",
    "                    ans.append([nums[a], nums[b], nums[c], nums[d]])\n",
    "                    c += 1\n",
    "                    while c < d and nums[c] == nums[c - 1]:  # 跳过重复数字\n",
    "                        c += 1\n",
    "                    d -= 1\n",
    "                    while d > c and nums[d] == nums[d + 1]:  # 跳过重复数字\n",
    "                        d -= 1\n",
    "    return ans"
   ]
  },
  {
   "cell_type": "markdown",
   "metadata": {},
   "source": [
    "# 611. 有效三角形的个数"
   ]
  },
  {
   "cell_type": "markdown",
   "metadata": {},
   "source": [
    "给定一个包含非负整数的数组 nums ，返回其中可以组成三角形三条边的三元组个数。\n",
    "\n",
    " \n",
    "\n",
    "示例 1:\n",
    "\n",
    "输入: nums = [2,2,3,4]\n",
    "输出: 3\n",
    "解释:有效的组合是: \n",
    "2,3,4 (使用第一个 2)\n",
    "2,3,4 (使用第二个 2)\n",
    "2,2,3\n",
    "示例 2:\n",
    "\n",
    "输入: nums = [4,2,3,4]\n",
    "输出: 4\n",
    " \n",
    "\n",
    "提示:\n",
    "\n",
    "1 <= nums.length <= 1000\n",
    "0 <= nums[i] <= 1000"
   ]
  },
  {
   "cell_type": "code",
   "execution_count": null,
   "metadata": {},
   "outputs": [],
   "source": [
    "    \n",
    "def f611(nums):\n",
    "    # 三角形就是两边之和大于第三边，两边之差小于第三边\n",
    "    nums.sort()\n",
    "    ans = 0\n",
    "    for k in range(2, len(nums)):\n",
    "        c = nums[k]\n",
    "        i = 0  # a=nums[i]\n",
    "        j = k - 1  # b=nums[j]\n",
    "        while i < j:\n",
    "            if nums[i] + nums[j] > c:\n",
    "                # 由于 nums 已经从小到大排序\n",
    "                # nums[i]+nums[j] > c 同时意味着：\n",
    "                # nums[i+1]+nums[j] > c\n",
    "                # nums[i+2]+nums[j] > c\n",
    "                # ...\n",
    "                # nums[j-1]+nums[j] > c\n",
    "                # 从 i 到 j-1 一共 j-i 个\n",
    "                ans += j - i\n",
    "                j -= 1\n",
    "            else:\n",
    "                # 由于 nums 已经从小到大排序\n",
    "                # nums[i]+nums[j] <= c 同时意味着\n",
    "                # nums[i]+nums[j-1] <= c\n",
    "                # ...\n",
    "                # nums[i]+nums[i+1] <= c\n",
    "                # 所以在后续的内层循环中，nums[i] 不可能作为三角形的边长，没有用了\n",
    "                i += 1\n",
    "    return ans"
   ]
  }
 ],
 "metadata": {
  "kernelspec": {
   "display_name": "Python 3",
   "language": "python",
   "name": "python3"
  },
  "language_info": {
   "codemirror_mode": {
    "name": "ipython",
    "version": 3
   },
   "file_extension": ".py",
   "mimetype": "text/x-python",
   "name": "python",
   "nbconvert_exporter": "python",
   "pygments_lexer": "ipython3",
   "version": "3.12.1"
  }
 },
 "nbformat": 4,
 "nbformat_minor": 2
}
