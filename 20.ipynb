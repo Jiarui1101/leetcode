{
 "cells": [
  {
   "cell_type": "markdown",
   "metadata": {},
   "source": [
    "# 300. 最长递增子序列"
   ]
  },
  {
   "cell_type": "markdown",
   "metadata": {},
   "source": [
    "给你一个整数数组 nums ，找到其中最长严格递增子序列的长度。\n",
    "\n",
    "子序列 是由数组派生而来的序列，删除（或不删除）数组中的元素而不改变其余元素的顺序。例如，[3,6,2,7] 是数组 [0,3,1,6,2,2,7] 的\n",
    "子序列\n",
    "。\n",
    "\n",
    " \n",
    "示例 1：\n",
    "\n",
    "输入：nums = [10,9,2,5,3,7,101,18]\n",
    "输出：4\n",
    "解释：最长递增子序列是 [2,3,7,101]，因此长度为 4 。\n",
    "示例 2：\n",
    "\n",
    "输入：nums = [0,1,0,3,2,3]\n",
    "输出：4\n",
    "示例 3：\n",
    "\n",
    "输入：nums = c\n",
    "输出：1\n",
    " \n",
    "\n",
    "提示：\n",
    "\n",
    "1 <= nums.length <= 2500\n",
    "-104 <= nums[i] <= 104\n",
    " \n",
    "\n",
    "进阶：\n",
    "\n",
    "你能将算法的时间复杂度降低到 O(n log(n)) 吗?"
   ]
  },
  {
   "cell_type": "code",
   "execution_count": 3,
   "metadata": {},
   "outputs": [
    {
     "data": {
      "text/plain": [
       "1"
      ]
     },
     "execution_count": 3,
     "metadata": {},
     "output_type": "execute_result"
    }
   ],
   "source": [
    "# 子集形式回溯\n",
    "from functools import lru_cache\n",
    "def f300(nums):\n",
    "    n = len(nums)\n",
    "    # 从选不选角度出发，就是dfs(i)表述，当nums[i]的时候，前i个元素的最长子序列\n",
    "    # 则，dfs(i) = max(dfs(j)) + 1 if nums[j] < nums[i]\n",
    "    @ lru_cache\n",
    "    def dfs(i):\n",
    "        res = 0\n",
    "        for j in range(i):\n",
    "            if nums[j] < nums[i]:\n",
    "                res = max(res, dfs(j)) \n",
    "        return res + 1\n",
    "    ans = 0\n",
    "    for i in range(n):\n",
    "        ans = max(ans, dfs(i))\n",
    "    return ans\n",
    "nums = [7,7,7,7,7,7,7]\n",
    "f300(nums)"
   ]
  },
  {
   "cell_type": "code",
   "execution_count": null,
   "metadata": {},
   "outputs": [
    {
     "data": {
      "text/plain": [
       "4"
      ]
     },
     "execution_count": 6,
     "metadata": {},
     "output_type": "execute_result"
    }
   ],
   "source": [
    "def f300(nums) -> int:\n",
    "    n = len(nums)\n",
    "    f = [0] * len(nums)\n",
    "    for i, x in enumerate(nums):\n",
    "        for j, y in enumerate(nums):\n",
    "            if x > y:\n",
    "                f[i] = max(f[j], f[i])\n",
    "        f[i] += 1\n",
    "    return max(f)\n",
    "\n",
    "nums = [10,9,2,5,3,7,101,18]\n",
    "f300(nums)"
   ]
  },
  {
   "cell_type": "code",
   "execution_count": null,
   "metadata": {},
   "outputs": [],
   "source": []
  }
 ],
 "metadata": {
  "kernelspec": {
   "display_name": "py_39",
   "language": "python",
   "name": "python3"
  },
  "language_info": {
   "codemirror_mode": {
    "name": "ipython",
    "version": 3
   },
   "file_extension": ".py",
   "mimetype": "text/x-python",
   "name": "python",
   "nbconvert_exporter": "python",
   "pygments_lexer": "ipython3",
   "version": "3.8.20"
  }
 },
 "nbformat": 4,
 "nbformat_minor": 2
}
