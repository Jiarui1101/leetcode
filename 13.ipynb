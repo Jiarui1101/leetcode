{
 "cells": [
  {
   "cell_type": "markdown",
   "metadata": {},
   "source": [
    "> 在此处，我将会充分联系二叉树的遍历原则。  \n",
    "    > 1.前序遍历  \n",
    "        >   a.递归调用  \n",
    "        >   b.迭代法  \n",
    "    > 2.中序遍历  \n",
    "        >   a.递归调用  \n",
    "        >   b.迭代法  \n",
    "    > 3.后序遍历  \n",
    "        >   a.递归调用  \n",
    "        >   b.迭代法  \n",
    "    > 4.层序遍历  \n",
    "        >   a.迭代法   \n",
    "        >   b.锯齿遍历\n"
   ]
  },
  {
   "cell_type": "markdown",
   "metadata": {},
   "source": [
    "# 前序遍历 preorder"
   ]
  },
  {
   "cell_type": "markdown",
   "metadata": {},
   "source": [
    "# 中序遍历 inorder"
   ]
  },
  {
   "cell_type": "markdown",
   "metadata": {},
   "source": [
    "# 后序遍历 postorder"
   ]
  },
  {
   "cell_type": "markdown",
   "metadata": {},
   "source": [
    "# 层序遍历 levelorder"
   ]
  }
 ],
 "metadata": {
  "language_info": {
   "name": "python"
  }
 },
 "nbformat": 4,
 "nbformat_minor": 2
}
