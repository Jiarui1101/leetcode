{
 "cells": [
  {
   "cell_type": "markdown",
   "metadata": {},
   "source": [
    "# 209 长度最小子数组"
   ]
  },
  {
   "cell_type": "markdown",
   "metadata": {},
   "source": [
    "给定一个含有 n 个正整数的数组和一个正整数 target 。\n",
    "\n",
    "找出该数组中满足其总和大于等于 target 的长度最小的 \n",
    "子数组\n",
    " [numsl, numsl+1, ..., numsr-1, numsr] ，并返回其长度。如果不存在符合条件的子数组，返回 0 。\n",
    "\n",
    " \n",
    "\n",
    "示例 1：\n",
    "\n",
    "输入：target = 7, nums = [2,3,1,2,4,3]\n",
    "输出：2\n",
    "解释：子数组 [4,3] 是该条件下的长度最小的子数组。\n",
    "\n",
    "示例 2：\n",
    "\n",
    "输入：target = 4, nums = [1,4,4]\n",
    "输出：1\n",
    "\n",
    "示例 3：\n",
    "\n",
    "输入：target = 11, nums = [1,1,1,1,1,1,1,1]\n",
    "输出：0\n",
    " \n",
    "\n",
    "提示：\n",
    "\n",
    "1 <= target <= 109\n",
    "1 <= nums.length <= 105\n",
    "1 <= nums[i] <= 104"
   ]
  },
  {
   "cell_type": "code",
   "execution_count": 10,
   "metadata": {},
   "outputs": [
    {
     "name": "stdout",
     "output_type": "stream",
     "text": [
      "2\n"
     ]
    }
   ],
   "source": [
    "def minsubarraylen(target, nums):\n",
    "    #1.暴力算法\n",
    "    #时间复杂度O(n^2)\n",
    "    #空间复杂度(1)\n",
    "    if not nums : return 0\n",
    "    ans = float('inf') #无穷大，用于后续比较\n",
    "    n = len(nums)\n",
    "    for left in range(n):\n",
    "        sum = 0\n",
    "        for right in range(left, n):\n",
    "            sum += nums[right]\n",
    "            if sum >= target:\n",
    "                ans = min(ans, right - left + 1)\n",
    "                break\n",
    "    return ans if ans <= n else 0\n",
    "\n",
    "target = 7\n",
    "nums = [2,3,1,2,4,3]\n",
    "print(minsubarraylen(target, nums)) "
   ]
  },
  {
   "cell_type": "code",
   "execution_count": null,
   "metadata": {},
   "outputs": [
    {
     "name": "stdout",
     "output_type": "stream",
     "text": [
      "2\n"
     ]
    }
   ],
   "source": [
    "# 双指针优化\n",
    "def minsubarraylen(target, nums):\n",
    "    #时间复杂度O(n)\n",
    "    #空间复杂度(1)\n",
    "    if not nums : return 0\n",
    "    n = len(nums)\n",
    "    ans = n+1 \n",
    "    \n",
    "    left = 0\n",
    "    sum = 0\n",
    "    for right, x in enumerate(nums):\n",
    "        sum += x\n",
    "        while sum >= target:\n",
    "            ans = min(ans, right - left + 1)\n",
    "            sum -= nums[left]\n",
    "            left += 1\n",
    "    return ans if ans <= n else 0        \n",
    "\n",
    "target = 7\n",
    "nums = [2,3,1,2,4,3]\n",
    "print(minsubarraylen(target, nums)) "
   ]
  },
  {
   "cell_type": "markdown",
   "metadata": {},
   "source": [
    "# 713.乘积小于k的子数组"
   ]
  },
  {
   "cell_type": "markdown",
   "metadata": {},
   "source": [
    "给你一个整数数组 nums 和一个整数 k ，请你返回子数组内所有元素的乘积严格小于 k 的连续子数组的数目。\n",
    " \n",
    "\n",
    "示例 1：\n",
    "\n",
    "输入：nums = [10,5,2,6], k = 100\n",
    "输出：8\n",
    "解释：8 个乘积小于 100 的子数组分别为：[10]、[5]、[2]、[6]、[10,5]、[5,2]、[2,6]、[5,2,6]。\n",
    "需要注意的是 [10,5,2] 并不是乘积小于 100 的子数组。\n",
    "\n",
    "示例 2：\n",
    "\n",
    "输入：nums = [1,2,3], k = 0\n",
    "输出：0\n",
    " \n",
    "\n",
    "提示: \n",
    "\n",
    "1 <= nums.length <= 3 * 104\n",
    "1 <= nums[i] <= 1000\n",
    "0 <= k <= 106"
   ]
  },
  {
   "cell_type": "code",
   "execution_count": null,
   "metadata": {},
   "outputs": [
    {
     "name": "stdout",
     "output_type": "stream",
     "text": [
      "8\n"
     ]
    }
   ],
   "source": [
    "def f713(nums, k):\n",
    "    #时间复杂度O(n)\n",
    "    #空间复杂度(1)\n",
    "    if not nums or k < 1: return 0\n",
    "    n = len(nums)\n",
    "    ans = 0\n",
    "    left = 0\n",
    "    prob = 1\n",
    "    for right, x in enumerate(nums):\n",
    "        prob *= x\n",
    "        while prob >= k:\n",
    "            prob /= nums[left]\n",
    "            left += 1\n",
    "        ans += right - left + 1\n",
    "    return ans \n",
    "nums = [10,5,2,6]\n",
    "k = 100\n",
    "print(f713(nums, k))"
   ]
  },
  {
   "cell_type": "markdown",
   "metadata": {},
   "source": [
    "如何计算 增量 子数组数量是个难点，首先我们看看窗口内的子数组怎么“数”的问题，比如数组[1,2,3,4]，当前窗口[1,2,3]。\n",
    "\n",
    "我们全量数一次窗口内的子数组: [1], [1,2], [1,2,3], [2], [2,3], [3], 一共6个，当right右移后，窗口变成[1,2,3,4]，这时如果我们再进行“全量数”，上一个窗口[1,2,3]就被重复计算了。\n",
    "\n",
    "为了消除这种重复，我们需要使用“增量数”，从右向左看，right右移后，窗口新增一个元素，会新增哪些子数组？ 例如[1,2,3] -> [1,2,3,4] 窗口内新增一个元素4时，新增的子数组肯定要包含4，以4为右端点，新增的子数组是[4],[3,4],[2,3,4],[1,2,3,4]， 一共4个，这个增量就是窗口大小right-left+1。"
   ]
  },
  {
   "cell_type": "markdown",
   "metadata": {},
   "source": [
    "# 3. 无重复字符的最长子串"
   ]
  },
  {
   "cell_type": "markdown",
   "metadata": {},
   "source": [
    "给定一个字符串 s ，请你找出其中不含有重复字符的 最长 \n",
    "子串\n",
    " 的长度。\n",
    "\n",
    " \n",
    "\n",
    "示例 1:\n",
    "\n",
    "输入: s = \"abcabcbb\"\n",
    "输出: 3 \n",
    "解释: 因为无重复字符的最长子串是 \"abc\"，所以其长度为 3。\n",
    "\n",
    "示例 2:\n",
    "\n",
    "输入: s = \"bbbbb\"\n",
    "输出: 1\n",
    "解释: 因为无重复字符的最长子串是 \"b\"，所以其长度为 1。\n",
    "\n",
    "示例 3:\n",
    "\n",
    "输入: s = \"pwwkew\"\n",
    "输出: 3\n",
    "解释: 因为无重复字符的最长子串是 \"wke\"，所以其长度为 3。\n",
    "     请注意，你的答案必须是 子串 的长度，\"pwke\" 是一个子序列，不是子串。\n",
    " \n",
    "\n",
    "提示：\n",
    "\n",
    "0 <= s.length <= 5 * 104\n",
    "s 由英文字母、数字、符号和空格组成\n"
   ]
  },
  {
   "cell_type": "code",
   "execution_count": null,
   "metadata": {},
   "outputs": [
    {
     "name": "stdout",
     "output_type": "stream",
     "text": [
      "3\n"
     ]
    }
   ],
   "source": [
    "from collections import defaultdict\n",
    "from collections import Counter\n",
    "#时间复杂度O(n)\n",
    "#空间复杂度(1)\n",
    "def f3(s):\n",
    "    ans = 0\n",
    "    # dic = {},这是错的，没有初始化\n",
    "    dic = defaultdict(int)\n",
    "    '''\n",
    "    collections.defaultdict(int) 自动初始化未出现过的字符。\n",
    "    '''\n",
    "\n",
    "    # dic = Counter()\n",
    "    '''\n",
    "    Counter 是 collections 模块中的一个专用字典类型，\n",
    "    可以自动将不存在的键的值初始化为 0，因此可以方便地进行计数。\n",
    "    '''\n",
    "    left = 0\n",
    "    for right, x in enumerate(s):\n",
    "        dic[x] += 1\n",
    "        while dic[x] > 1:\n",
    "            dic[s[left]] -= 1\n",
    "            left += 1\n",
    "        ans = max(ans, right - left +1)\n",
    "    return ans\n",
    "\n",
    "s = \"abcabcbb\"\n",
    "print(f3(s))"
   ]
  },
  {
   "cell_type": "code",
   "execution_count": 28,
   "metadata": {},
   "outputs": [
    {
     "name": "stdout",
     "output_type": "stream",
     "text": [
      "3\n"
     ]
    }
   ],
   "source": [
    "def f3(s):\n",
    "    #时间复杂度O(n)\n",
    "    #空间复杂度(1)\n",
    "    ans, left, dic = 0, -1, {}\n",
    "    for right, x in enumerate(s):\n",
    "        if x in dic:\n",
    "            left = max(left, dic[x]) \n",
    "        dic[x] = right\n",
    "        ans = max(ans, right-left)\n",
    "        '''\n",
    "        取上轮 res 和本轮双指针区间 [i+1,j] 的宽度（即 j−i ）中的最大值。\n",
    "        '''\n",
    "    return ans\n",
    "s = \"abcabcbb\"\n",
    "print(f3(s))\n",
    "    \n"
   ]
  },
  {
   "cell_type": "markdown",
   "metadata": {},
   "source": [
    "# 2958. 最多 K 个重复元素的最长子数组"
   ]
  },
  {
   "cell_type": "markdown",
   "metadata": {},
   "source": [
    "给你一个整数数组 nums 和一个整数 k 。\n",
    "\n",
    "一个元素 x 在数组中的 频率 指的是它在数组中的出现次数。\n",
    "\n",
    "如果一个数组中所有元素的频率都 小于等于 k ，那么我们称这个数组是 好 数组。\n",
    "\n",
    "请你返回 nums 中 最长好 子数组的长度。\n",
    "\n",
    "子数组 指的是一个数组中一段连续非空的元素序列。\n",
    "\n",
    " \n",
    "\n",
    "示例 1：\n",
    "\n",
    "输入：nums = [1,2,3,1,2,3,1,2], k = 2\n",
    "输出：6\n",
    "解释：最长好子数组是 [1,2,3,1,2,3] ，值 1 ，2 和 3 在子数组中的频率都没有超过 k = 2 。[2,3,1,2,3,1] 和 [3,1,2,3,1,2] 也是好子数组。\n",
    "最长好子数组的长度为 6 。\n",
    "\n",
    "示例 2：\n",
    "\n",
    "输入：nums = [1,2,1,2,1,2,1,2], k = 1\n",
    "输出：2\n",
    "解释：最长好子数组是 [1,2] ，值 1 和 2 在子数组中的频率都没有超过 k = 1 。[2,1] 也是好子数组。\n",
    "最长好子数组的长度为 2 。\n",
    "\n",
    "示例 3：\n",
    "\n",
    "输入：nums = [5,5,5,5,5,5,5], k = 4\n",
    "输出：4\n",
    "解释：最长好子数组是 [5,5,5,5] ，值 5 在子数组中的频率没有超过 k = 4 。\n",
    "最长好子数组的长度为 4 。\n",
    " \n",
    "\n",
    "提示：\n",
    "\n",
    "1 <= nums.length <= 105  \n",
    "1 <= nums[i] <= 109  \n",
    "1 <= k <= nums.length  "
   ]
  },
  {
   "cell_type": "code",
   "execution_count": null,
   "metadata": {},
   "outputs": [],
   "source": [
    "def f2958()"
   ]
  }
 ],
 "metadata": {
  "kernelspec": {
   "display_name": "Python 3",
   "language": "python",
   "name": "python3"
  },
  "language_info": {
   "codemirror_mode": {
    "name": "ipython",
    "version": 3
   },
   "file_extension": ".py",
   "mimetype": "text/x-python",
   "name": "python",
   "nbconvert_exporter": "python",
   "pygments_lexer": "ipython3",
   "version": "3.12.1"
  }
 },
 "nbformat": 4,
 "nbformat_minor": 2
}
