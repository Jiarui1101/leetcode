{
 "cells": [
  {
   "cell_type": "code",
   "execution_count": 2,
   "metadata": {},
   "outputs": [
    {
     "name": "stdout",
     "output_type": "stream",
     "text": [
      "5\n"
     ]
    }
   ],
   "source": [
    "import random\n",
    "def top_k(nums, k):\n",
    "    def quick_select(nums, k):\n",
    "        pviot = random.choice(nums)\n",
    "        small, big, equal = [], [], []\n",
    "        for x in nums:\n",
    "            if x < pviot:\n",
    "                small.append(x)\n",
    "            elif x > pviot:\n",
    "                big.append(x)\n",
    "            else:\n",
    "                equal.append(x)\n",
    "        n = len(nums)\n",
    "        if k <= len(big):\n",
    "            return quick_select(big, k)\n",
    "        elif k > n - len(small):\n",
    "            return quick_select(small, k - (n - len(small)))\n",
    "        return pviot\n",
    "    return quick_select(nums, k)\n",
    "nums = [3,2,1,5,6,4]\n",
    "k = 2\n",
    "print(top_k(nums, k))"
   ]
  },
  {
   "cell_type": "code",
   "execution_count": 1,
   "metadata": {},
   "outputs": [
    {
     "name": "stdout",
     "output_type": "stream",
     "text": [
      "(3, 'abc')\n"
     ]
    }
   ],
   "source": [
    "def lengthOfLongestSubstring(s):\n",
    "    left = -1\n",
    "    length = 0\n",
    "    dic = {}\n",
    "    start = 0\n",
    "    for right, x in enumerate(s):\n",
    "        if x in dic:\n",
    "            left = max(left, dic[x])\n",
    "        dic[x] = right\n",
    "        if right - left > length:\n",
    "            length = right - left\n",
    "            start = left + 1\n",
    "    return length, s[start: start + length]\n",
    "s = \"abcabcbb\"\n",
    "print(lengthOfLongestSubstring(s))"
   ]
  },
  {
   "cell_type": "code",
   "execution_count": 9,
   "metadata": {},
   "outputs": [
    {
     "name": "stdout",
     "output_type": "stream",
     "text": [
      "abc\n"
     ]
    }
   ],
   "source": [
    "def lengthOfLongestSubstring(s):\n",
    "    left = -1\n",
    "    length = 0\n",
    "    dic = {}\n",
    "    for right, x in enumerate(s):\n",
    "        if x in dic:\n",
    "            left = max(left, dic[x])\n",
    "        dic[x] = right\n",
    "        if right - left > length:\n",
    "            length = right - left\n",
    "            start = left + 1\n",
    "    return s[start:start + length]\n",
    "s = \"abcabcbb\"\n",
    "print(lengthOfLongestSubstring(s))"
   ]
  },
  {
   "cell_type": "code",
   "execution_count": null,
   "metadata": {},
   "outputs": [
    {
     "name": "stdout",
     "output_type": "stream",
     "text": [
      "3\n"
     ]
    }
   ],
   "source": [
    "from functools import cache\n",
    "def minDistance(word1, word2):\n",
    "    @cache\n",
    "    def dfs(i, j):\n",
    "        if i < 0:\n",
    "            return j + 1\n",
    "        if j < 0:\n",
    "            return i + 1\n",
    "        if word1[i] == word2[j]:\n",
    "            return dfs(i-1, j-1)\n",
    "        return min(dfs(i-1, j), dfs(i, j-1), dfs(i-1, j-1)) + 1\n",
    "    return dfs(n-1, m-1)\n",
    "word1 = \"horse\"\n",
    "word2 = \"ros\"   \n",
    "print(minDistance(word1, word2))"
   ]
  },
  {
   "cell_type": "code",
   "execution_count": 12,
   "metadata": {},
   "outputs": [
    {
     "ename": "IndexError",
     "evalue": "string index out of range",
     "output_type": "error",
     "traceback": [
      "\u001b[1;31m---------------------------------------------------------------------------\u001b[0m",
      "\u001b[1;31mIndexError\u001b[0m                                Traceback (most recent call last)",
      "Cell \u001b[1;32mIn[12], line 30\u001b[0m\n\u001b[0;32m     28\u001b[0m word1 \u001b[38;5;241m=\u001b[39m \u001b[38;5;124m\"\u001b[39m\u001b[38;5;124mhorse\u001b[39m\u001b[38;5;124m\"\u001b[39m\n\u001b[0;32m     29\u001b[0m word2 \u001b[38;5;241m=\u001b[39m \u001b[38;5;124m\"\u001b[39m\u001b[38;5;124mros\u001b[39m\u001b[38;5;124m\"\u001b[39m\n\u001b[1;32m---> 30\u001b[0m \u001b[38;5;28mprint\u001b[39m(\u001b[43mminDistance\u001b[49m\u001b[43m(\u001b[49m\u001b[43mword1\u001b[49m\u001b[43m,\u001b[49m\u001b[43m \u001b[49m\u001b[43mword2\u001b[49m\u001b[43m)\u001b[49m)\n",
      "Cell \u001b[1;32mIn[12], line 15\u001b[0m, in \u001b[0;36mminDistance\u001b[1;34m(word1, word2)\u001b[0m\n\u001b[0;32m     13\u001b[0m \u001b[38;5;28;01mfor\u001b[39;00m i \u001b[38;5;129;01min\u001b[39;00m \u001b[38;5;28mrange\u001b[39m(n\u001b[38;5;241m+\u001b[39m\u001b[38;5;241m1\u001b[39m):\n\u001b[0;32m     14\u001b[0m     \u001b[38;5;28;01mfor\u001b[39;00m j \u001b[38;5;129;01min\u001b[39;00m \u001b[38;5;28mrange\u001b[39m(m\u001b[38;5;241m+\u001b[39m\u001b[38;5;241m1\u001b[39m):\n\u001b[1;32m---> 15\u001b[0m         \u001b[38;5;28;01mif\u001b[39;00m word1[i] \u001b[38;5;241m==\u001b[39m \u001b[43mword2\u001b[49m\u001b[43m[\u001b[49m\u001b[43mj\u001b[49m\u001b[43m]\u001b[49m:\n\u001b[0;32m     16\u001b[0m             dp[i\u001b[38;5;241m+\u001b[39m\u001b[38;5;241m1\u001b[39m][j\u001b[38;5;241m+\u001b[39m\u001b[38;5;241m1\u001b[39m] \u001b[38;5;241m=\u001b[39m dp[i][j]\n\u001b[0;32m     17\u001b[0m         \u001b[38;5;28;01melse\u001b[39;00m:\n",
      "\u001b[1;31mIndexError\u001b[0m: string index out of range"
     ]
    }
   ],
   "source": [
    "def minDistance(word1, word2):\n",
    "    n, m = len(word1), len(word2)\n",
    "    dp = [[0]*(m+1) for _ in range(n+1)]\n",
    "    # 初始化\n",
    "    for i in range(n+1):\n",
    "        dp[i][0] = i\n",
    "    for j in range(m+1):\n",
    "        dp[0][j] = j\n",
    "    \n",
    "    # for i, x in enumerate(word1):\n",
    "    #     for j, y in enumerate(word2):\n",
    "    #         if x == y:\n",
    "    for i in range(n+1):\n",
    "        for j in range(m+1):\n",
    "            if word1[i] == word2[j]:\n",
    "                dp[i+1][j+1] = dp[i][j]\n",
    "            else:\n",
    "                dp[i+1][j+1] = min(dp[i][j], dp[i][j+1], dp[i+1][j]) + 1\n",
    "    return dp[n][m]\n",
    "\n",
    "\n",
    "    \n",
    "\n",
    "    #             dp[i+1][j+1] = dp[i][j]\n",
    "    #         else:\n",
    "    #             dp[i+1][j+1] = min(dp[i][j], dp[i+1][j], dp[i][j+1]) + 1\n",
    "    # return dp[n][m]\n",
    "word1 = \"horse\"\n",
    "word2 = \"ros\"\n",
    "print(minDistance(word1, word2))"
   ]
  },
  {
   "cell_type": "code",
   "execution_count": 15,
   "metadata": {},
   "outputs": [
    {
     "name": "stdout",
     "output_type": "stream",
     "text": [
      "1\n"
     ]
    }
   ],
   "source": [
    "def numIslands(grid):\n",
    "    def dfs(grid, i ,j):\n",
    "        if not 0 <= i < len(grid) or not 0 <= j < len(grid[0]) or grid[i][j] != \"1\":\n",
    "            return\n",
    "        grid[i][j] = \"10\"\n",
    "        dfs(grid, i+1, j)\n",
    "        dfs(grid, i-1, j)\n",
    "        dfs(grid, i, j+1)\n",
    "        dfs(grid, i, j-1)\n",
    "    \n",
    "    count = 0\n",
    "    for i in range(len(grid)):\n",
    "        for j in range(len(grid[0])):\n",
    "            if grid[i][j] == \"1\":\n",
    "                dfs(grid, i, j)\n",
    "                count += 1\n",
    "    return count\n",
    "grid = [[\"1\",\"1\",\"1\",\"1\",\"0\"],[\"1\",\"1\",\"0\",\"1\",\"0\"],[\"1\",\"1\",\"0\",\"0\",\"0\"],[\"0\",\"0\",\"0\",\"0\",\"0\"]]\n",
    "print(numIslands(grid))        "
   ]
  },
  {
   "cell_type": "code",
   "execution_count": 17,
   "metadata": {},
   "outputs": [
    {
     "name": "stdout",
     "output_type": "stream",
     "text": [
      "6\n"
     ]
    }
   ],
   "source": [
    "def maxSubArray(nums):\n",
    "    for i in range(1, len(nums)):\n",
    "        nums[i] += max(nums[i-1], 0)\n",
    "    return max(nums)\n",
    "nums = [-2,1,-3,4,-1,2,1,-5,4] \n",
    "print(maxSubArray(nums)) "
   ]
  },
  {
   "cell_type": "code",
   "execution_count": 14,
   "metadata": {},
   "outputs": [
    {
     "name": "stdout",
     "output_type": "stream",
     "text": [
      "(6, [4, -1, 2, 1])\n"
     ]
    }
   ],
   "source": [
    "\n",
    "def maxSubArray(nums):\n",
    "\n",
    "    max_sum = float(\"-inf\")\n",
    "    cur_sum = 0\n",
    "    start_idx = end_idx = 0\n",
    "    for i, num in enumerate(nums):\n",
    "        if cur_sum < 0:\n",
    "            cur_sum = num\n",
    "            start_idx = i\n",
    "        else:\n",
    "            cur_sum += num\n",
    "        if cur_sum > max_sum:\n",
    "            max_sum = cur_sum   \n",
    "            end_idx = i\n",
    "    return max_sum, nums[start_idx: end_idx+1]\n",
    "nums = [-2,1,-3,4,-1,2,1,-5,4]\n",
    "print(maxSubArray(nums))"
   ]
  },
  {
   "cell_type": "code",
   "execution_count": 23,
   "metadata": {},
   "outputs": [
    {
     "name": "stdout",
     "output_type": "stream",
     "text": [
      "[[-1, -1, 2], [-1, 0, 1]]\n"
     ]
    }
   ],
   "source": [
    "def threeSum(nums, target):\n",
    "    nums.sort()\n",
    "    n = len(nums)\n",
    "    ans = []\n",
    "    for i in range(n-2):\n",
    "        l, r = i+1, n-1\n",
    "        if i > 0 and nums[i] == nums[i-1]:\n",
    "            continue\n",
    "        while l < r:\n",
    "            s = nums[i] + nums[l] + nums[r]\n",
    "            if s == target:\n",
    "                ans.append([nums[i], nums[l], nums[r]])\n",
    "                l += 1\n",
    "                while l < r and nums[l] == nums[l-1]:\n",
    "                    l += 1\n",
    "                r -= 1\n",
    "                while l < r and nums[r] == nums[r+1]:\n",
    "                    r -= 1\n",
    "            elif s < target:\n",
    "                l += 1\n",
    "            else:\n",
    "                r -= 1\n",
    "    return ans\n",
    "nums = [-1, 0, 1, 2, -1, -4]\n",
    "target = 0\n",
    "print(threeSum(nums, target))\n",
    "\n",
    "                "
   ]
  },
  {
   "cell_type": "code",
   "execution_count": 27,
   "metadata": {},
   "outputs": [
    {
     "name": "stdout",
     "output_type": "stream",
     "text": [
      "4\n"
     ]
    }
   ],
   "source": [
    "def search(nums, target):\n",
    "    if not nums:\n",
    "        return -1\n",
    "    left, right = 0, len(nums) - 1\n",
    "    while left <= right:\n",
    "        mid = (left + right) // 2\n",
    "        x = nums[mid]\n",
    "        if x == target:\n",
    "            return mid\n",
    "        if x >= nums[left]: # x在左半部分\n",
    "            if nums[left] <= target <= x: # target在左半部分\n",
    "                right = mid - 1\n",
    "            else: # target在右半部分\n",
    "                left = mid + 1\n",
    "        else: # x在右半部分\n",
    "            if x <= target <= nums[right]: # target在右半部分\n",
    "                left = mid + 1\n",
    "            else: # target在左半部分\n",
    "                right = mid - 1\n",
    "    return -1\n",
    "nums = [4,5,6,7,0,1,2]\n",
    "target = 0\n",
    "print(search(nums, target))\n"
   ]
  },
  {
   "cell_type": "code",
   "execution_count": null,
   "metadata": {},
   "outputs": [
    {
     "name": "stdout",
     "output_type": "stream",
     "text": [
      "[1, 2, 3, 4, 5]\n",
      "1\n"
     ]
    }
   ],
   "source": [
    "class ListNode:\n",
    "    def __init__(self, val = 0, next = None):\n",
    "        self.val = val\n",
    "        self.next = next\n",
    "        \n",
    "def reverseList(head):\n",
    "    pre = None\n",
    "    cur = head\n",
    "    while cur:\n",
    "        temp = cur.next\n",
    "        cur.next = pre\n",
    "        pre, cur = cur, temp\n",
    "    return pre\n",
    "def list_to_head(list):\n",
    "    dummy = ListNode()\n",
    "    cur = dummy\n",
    "    for val in list:\n",
    "        cur.next = ListNode(val)\n",
    "        cur = cur.next\n",
    "    return dummy.next\n",
    "\n",
    "def head_to_list(head):\n",
    "    cur = head\n",
    "    res = []\n",
    "    while cur:\n",
    "        res.append(cur.val)\n",
    "        cur = cur.next\n",
    "    return res\n",
    "list = [1,2,3,4,5]\n",
    "head = list_to_head(list)\n",
    "print(head_to_list(head))\n",
    "\n"
   ]
  },
  {
   "cell_type": "code",
   "execution_count": 23,
   "metadata": {},
   "outputs": [
    {
     "name": "stdout",
     "output_type": "stream",
     "text": [
      "[[1, 2, 3], [1, 3, 2], [2, 1, 3], [2, 3, 1], [3, 1, 2], [3, 2, 1]]\n"
     ]
    }
   ],
   "source": [
    "def permute(nums):\n",
    "    n = len(nums)\n",
    "    ans, path = [], []\n",
    "    def dfs(i, s):\n",
    "        if len(path) == n:\n",
    "            ans.append(path.copy())\n",
    "            return\n",
    "        for x in s:\n",
    "            path.append(x)\n",
    "            dfs(i+1, s - {x})\n",
    "            path.pop()\n",
    "    dfs(0, set(nums))\n",
    "    return ans\n",
    "\n",
    "nums = [1,2,3]\n",
    "print(permute(nums))"
   ]
  },
  {
   "cell_type": "code",
   "execution_count": 34,
   "metadata": {},
   "outputs": [
    {
     "name": "stdout",
     "output_type": "stream",
     "text": [
      "(4, [2, 3, 7, 18])\n"
     ]
    }
   ],
   "source": [
    "def lengthOfLIS(nums):\n",
    "    f = []\n",
    "    for x in nums:\n",
    "        if not f or x > f[-1]:\n",
    "            f.append(x)\n",
    "        else:\n",
    "            l, r = 0, len(f) - 1\n",
    "            while l < r:\n",
    "                mid = (l + r) // 2\n",
    "                if f[mid] < x:\n",
    "                    l = mid + 1\n",
    "                else:\n",
    "                    r = mid\n",
    "            f[l] = x\n",
    "    return len(f), f\n",
    "nums = [10,9,2,5,3,7,101,18]\n",
    "print(lengthOfLIS(nums))"
   ]
  },
  {
   "cell_type": "code",
   "execution_count": 44,
   "metadata": {},
   "outputs": [
    {
     "name": "stdout",
     "output_type": "stream",
     "text": [
      "(3, 'ace')\n"
     ]
    }
   ],
   "source": [
    "def longestCommonSubsequence(text1, text2):\n",
    "    n, m= len(text1), len(text2)\n",
    "    on_path = [[0] * (m+1) for _ in range(n+1)] \n",
    "    dp = [[0] * (m+1) for _ in range(n+1)]\n",
    "    for i, x in enumerate(text1):\n",
    "        for j, y in enumerate(text2):\n",
    "            if x == y:\n",
    "                on_path[i+1][j+1] = 0\n",
    "                dp[i+1][j+1] = dp[i][j] + 1       \n",
    "                \n",
    "            else:\n",
    "                if dp[i][j+1] > dp[i+1][j]:\n",
    "                    on_path[i+1][j+1] = 1\n",
    "                    dp[i+1][j+1] = dp[i][j+1]\n",
    "                else:\n",
    "                    on_path[i+1][j+1] = -1\n",
    "                    dp[i+1][j+1] = dp[i+1][j]\n",
    "    ans = []\n",
    "    i, j = n, m\n",
    "    while i > 0 and j > 0:\n",
    "        if on_path[i][j] == 0:\n",
    "            ans.append(text1[i - 1])\n",
    "            i -= 1\n",
    "            j -= 1\n",
    "        elif on_path[i][j] == 1:\n",
    "            i -= 1\n",
    "        else:\n",
    "            j -= 1\n",
    "    return dp[n][m], \"\".join(ans[::-1])\n",
    "text1 = \"12abcde\"\n",
    "text2 = \"a1ce\"\n",
    "print(longestCommonSubsequence(text1, text2))"
   ]
  },
  {
   "cell_type": "code",
   "execution_count": 43,
   "metadata": {},
   "outputs": [
    {
     "name": "stdout",
     "output_type": "stream",
     "text": [
      "(3, 'cbb')\n"
     ]
    }
   ],
   "source": [
    "class Solution:\n",
    "    def longestCommonSubsequence(self, s: str, t: str) -> str:\n",
    "        n, m = len(s), len(t)\n",
    "        # 二维数组 f 用于记录最长公共子序列的长度\n",
    "        f = [[0] * (m + 1) for _ in range(n + 1)]\n",
    "        # 二维数组 path 用于记录状态转移方向\n",
    "        # 0 表示从左上角来（s[i] == t[j]）\n",
    "        # 1 表示从上方来（f[i - 1][j] > f[i][j - 1]）\n",
    "        # 2 表示从左方来（f[i - 1][j] <= f[i][j - 1]）\n",
    "        path = [[0] * (m + 1) for _ in range(n + 1)]\n",
    "\n",
    "        for i in range(n):\n",
    "            for j in range(m):\n",
    "                if s[i] == t[j]:\n",
    "                    f[i + 1][j + 1] = f[i][j] + 1\n",
    "                    path[i + 1][j + 1] = 0\n",
    "                else:\n",
    "                    if f[i][j + 1] > f[i + 1][j]:\n",
    "                        f[i + 1][j + 1] = f[i][j + 1]\n",
    "                        path[i + 1][j + 1] = 1\n",
    "                    else:\n",
    "                        f[i + 1][j + 1] = f[i + 1][j]\n",
    "                        path[i + 1][j + 1] = 2\n",
    "\n",
    "        # 从右下角开始回溯，构建最长公共子序列\n",
    "        i, j = n, m\n",
    "        lcs = []\n",
    "        while i > 0 and j > 0:\n",
    "            if path[i][j] == 0:\n",
    "                lcs.append(s[i - 1])\n",
    "                i -= 1\n",
    "                j -= 1\n",
    "            elif path[i][j] == 1:\n",
    "                i -= 1\n",
    "            else:\n",
    "                j -= 1\n",
    "\n",
    "        return ''.join(lcs[::-1])\n",
    "text1 = \"12abcde\"\n",
    "text2 = \"a1ce\"\n",
    "print(longestCommonSubsequence(text1, text2))"
   ]
  },
  {
   "cell_type": "code",
   "execution_count": 56,
   "metadata": {},
   "outputs": [
    {
     "name": "stdout",
     "output_type": "stream",
     "text": [
      "bab\n"
     ]
    }
   ],
   "source": [
    "def longestPalindrome(s):\n",
    "    def expandAroundCenter(s, left, right):\n",
    "        while left >= 0 and right < len(s) and s[left] == s[right]:\n",
    "            left -= 1\n",
    "            right += 1\n",
    "        return left + 1, right - 1\n",
    "\n",
    "    start, end = 0, 0\n",
    "    for i in range(len(s)):\n",
    "        left1, right1 = expandAroundCenter(s, i, i)\n",
    "        left2, right2 = expandAroundCenter(s, i, i + 1)\n",
    "        if right1 - left1 > end - start:\n",
    "            start, end = left1, right1\n",
    "        if right2 - left2 > end - start:\n",
    "            start, end = left2, right2\n",
    "    return s[start: end + 1]\n",
    "\n",
    "\n",
    "s = \"babad\"\n",
    "print(longestPalindrome(s))"
   ]
  },
  {
   "cell_type": "code",
   "execution_count": null,
   "metadata": {},
   "outputs": [
    {
     "name": "stdout",
     "output_type": "stream",
     "text": [
      "22\n"
     ]
    }
   ],
   "source": [
    "def mysqrt(x):\n",
    "    l, r , ans = 0, x, -1\n",
    "    while l <= r:\n",
    "        mid = (l+r) // 2\n",
    "        if mid * mid <= x:\n",
    "            ans = mid\n",
    "            l = mid + 1\n",
    "        else:\n",
    "            r = mid - 1\n",
    "    return ans\n",
    "x = 512\n",
    "print(mysqrt(x))"
   ]
  }
 ],
 "metadata": {
  "kernelspec": {
   "display_name": "Python 3",
   "language": "python",
   "name": "python3"
  },
  "language_info": {
   "codemirror_mode": {
    "name": "ipython",
    "version": 3
   },
   "file_extension": ".py",
   "mimetype": "text/x-python",
   "name": "python",
   "nbconvert_exporter": "python",
   "pygments_lexer": "ipython3",
   "version": "3.12.1"
  }
 },
 "nbformat": 4,
 "nbformat_minor": 2
}
