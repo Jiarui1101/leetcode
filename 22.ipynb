{
 "cells": [
  {
   "cell_type": "markdown",
   "metadata": {},
   "source": [
    "# 516. 最长回文子序列"
   ]
  },
  {
   "cell_type": "markdown",
   "metadata": {},
   "source": [
    "给你一个字符串 s ，找出其中最长的回文子序列，并返回该序列的长度。\n",
    "\n",
    "子序列定义为：不改变剩余字符顺序的情况下，删除某些字符或者不删除任何字符形成的一个序列。\n",
    "\n",
    " \n",
    "\n",
    "示例 1：\n",
    "\n",
    "输入：s = \"bbbab\"\n",
    "输出：4\n",
    "解释：一个可能的最长回文子序列为 \"bbbb\" 。\n",
    "示例 2：\n",
    "\n",
    "输入：s = \"cbbd\"\n",
    "输出：2\n",
    "解释：一个可能的最长回文子序列为 \"bb\" 。\n",
    " \n",
    "\n",
    "提示：\n",
    "\n",
    "1 <= s.length <= 1000\n",
    "s 仅由小写英文字母组成"
   ]
  },
  {
   "cell_type": "code",
   "execution_count": 10,
   "metadata": {},
   "outputs": [
    {
     "data": {
      "text/plain": [
       "4"
      ]
     },
     "execution_count": 10,
     "metadata": {},
     "output_type": "execute_result"
    }
   ],
   "source": [
    "from functools import lru_cache\n",
    "# 方法1：原始字符串和他的倒叙，求最长公共子序列\n",
    "def f516(s):\n",
    "    text1 = s\n",
    "    text2 = s[::-1]\n",
    "    def f(text1, text2):\n",
    "        n, m = len(text1), len(text2)\n",
    "        # @lru_cache\n",
    "        # def dfs(i, j):\n",
    "        #     if i <0 or j <0:\n",
    "        #         return 0\n",
    "        #     if text1[i] == text2[j]:\n",
    "        #         return dfs(i-1, j-1) + 1\n",
    "        #     return max(dfs(i-1, j), dfs(i, j-1))\n",
    "        # return dfs(n-1, m-1)\n",
    "        dp = [[0]*(m+1) for _ in range(n+1)]\n",
    "        for i, x in enumerate(text1):\n",
    "            for j, y in enumerate(text2):\n",
    "                if x == y:\n",
    "                    dp[i+1][j+1] = dp[i][j] + 1\n",
    "                else:\n",
    "                    dp[i+1][j+1] = max(dp[i][j+1], dp[i+1][j])\n",
    "        return dp[n][m]\n",
    "    return f(text1, text2)\n",
    "\n",
    "\n",
    "s = \"bbbab\"       \n",
    "f516(s)"
   ]
  },
  {
   "cell_type": "code",
   "execution_count": 11,
   "metadata": {},
   "outputs": [
    {
     "data": {
      "text/plain": [
       "4"
      ]
     },
     "execution_count": 11,
     "metadata": {},
     "output_type": "execute_result"
    }
   ],
   "source": [
    "# 优化成为区间dp\n",
    "def f516_1(s):\n",
    "    n = len(s)\n",
    "    @lru_cache\n",
    "    def dfs(i, j):\n",
    "        if i > j:\n",
    "            return 0\n",
    "        if i == j:\n",
    "            return 1\n",
    "        if s[i] == s[j]:\n",
    "            return dfs(i+1, j-1) + 2\n",
    "        return max(dfs(i+1,j), dfs(i,j-1))\n",
    "    return dfs(0, n-1)\n",
    "s = \"bbbab\"       \n",
    "f516_1(s)"
   ]
  },
  {
   "cell_type": "code",
   "execution_count": 14,
   "metadata": {},
   "outputs": [
    {
     "data": {
      "text/plain": [
       "4"
      ]
     },
     "execution_count": 14,
     "metadata": {},
     "output_type": "execute_result"
    }
   ],
   "source": [
    "# 优化成为递推公式\n",
    "def f516_2(s):\n",
    "    n = len(s)\n",
    "    f = [[0]*n for _ in range(n)]\n",
    "    for i in range(n-1, -1, -1):#i从i+1得到，所以需要倒序\n",
    "        f[i][i] = 1\n",
    "        for j in range(i+1, n):\n",
    "            if s[i] == s[j]:\n",
    "                f[i][j] = f[i+1][j-1] +2\n",
    "            else:\n",
    "                f[i][j] = max (f[i][j-1],f[i+1][j])\n",
    "    return f[0][n-1]\n",
    "s = \"bbbab\"       \n",
    "f516_2(s)"
   ]
  },
  {
   "cell_type": "code",
   "execution_count": 17,
   "metadata": {},
   "outputs": [
    {
     "data": {
      "text/plain": [
       "4"
      ]
     },
     "execution_count": 17,
     "metadata": {},
     "output_type": "execute_result"
    }
   ],
   "source": [
    "# 空间优化，去处f[i]\n",
    "def f516_2(s):\n",
    "    n = len(s)\n",
    "    f = [0]*n \n",
    "    for i in range(n-1, -1, -1):#i从i+1得到，所以需要倒序\n",
    "        f[i] = 1\n",
    "        pre = 0\n",
    "        for j in range(i+1, n):\n",
    "            temp = f[j]\n",
    "            # if s[i] == s[j]:\n",
    "            #     f[j] = pre + 2\n",
    "            # else:\n",
    "            #     f[j] = max(f[j], f[j - 1])\n",
    "            f[j] = pre + 2 if s[i] == s[j] else max(f[j], f[j - 1])\n",
    "            pre = temp\n",
    "    return f[-1]\n",
    "s = \"bbbab\"       \n",
    "f516_2(s)"
   ]
  }
 ],
 "metadata": {
  "kernelspec": {
   "display_name": "py_39",
   "language": "python",
   "name": "python3"
  },
  "language_info": {
   "codemirror_mode": {
    "name": "ipython",
    "version": 3
   },
   "file_extension": ".py",
   "mimetype": "text/x-python",
   "name": "python",
   "nbconvert_exporter": "python",
   "pygments_lexer": "ipython3",
   "version": "3.8.20"
  }
 },
 "nbformat": 4,
 "nbformat_minor": 2
}
