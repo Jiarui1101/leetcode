{
 "cells": [
  {
   "cell_type": "markdown",
   "metadata": {},
   "source": [
    "# 34. 在排序数组中查找元素的第一个和最后一个位置"
   ]
  },
  {
   "cell_type": "markdown",
   "metadata": {},
   "source": [
    "给你一个按照非递减顺序排列的整数数组 nums，和一个目标值 target。请你找出给定目标值在数组中的开始位置和结束位置。\n",
    "\n",
    "如果数组中不存在目标值 target，返回 [-1, -1]。\n",
    "\n",
    "你必须设计并实现时间复杂度为 O(log n) 的算法解决此问题。\n",
    "\n",
    " \n",
    "\n",
    "示例 1：\n",
    "\n",
    "输入：nums = [5,7,7,8,8,10], target = 8\n",
    "输出：[3,4]\n",
    "\n",
    "示例 2：\n",
    "\n",
    "输入：nums = [5,7,7,8,8,10], target = 6\n",
    "输出：[-1,-1]\n",
    "\n",
    "示例 3：\n",
    "\n",
    "输入：nums = [], target = 0\n",
    "输出：[-1,-1]\n",
    " \n",
    "\n",
    "提示：\n",
    "\n",
    "0 <= nums.length <= 105  \n",
    "-109 <= nums[i] <= 109  \n",
    "nums 是一个非递减数组  \n",
    "-109 <= target <= 109  "
   ]
  },
  {
   "cell_type": "code",
   "execution_count": null,
   "metadata": {},
   "outputs": [
    {
     "name": "stdout",
     "output_type": "stream",
     "text": [
      "[3, 4]\n"
     ]
    }
   ],
   "source": [
    "# 核心是二分查找(二分查找要用在有序数组上)\n",
    "## 闭区间在nums查找一个target函数写法\n",
    "def lower_bound1(nums, target):\n",
    "    #时间复杂度O(logn)\n",
    "    #空间复杂度O(1).下同\n",
    "    left, right = 0, len(nums)-1 #通过left, right 位置表示区间是开闭\n",
    "    while left < right : #闭区间\n",
    "        # 循环不变量：\n",
    "            # nums[left-1] < target \n",
    "            # nums[right+1] >= target \n",
    "        mid = (left + right)//2\n",
    "        # mid = left + (right - left)/2\n",
    "        if nums[mid] >= target:\n",
    "            right = mid - 1 # 范围缩小到 [left, mid-1]\n",
    "        else:\n",
    "            left = mid + 1  # 范围缩小到 [mid+1, right]\n",
    "        # 循环结束后 left = right+1\n",
    "        # 此时 nums[left-1] < target 而 nums[left] = nums[right+1] >= target\n",
    "        # 所以 left 就是第一个 >= target 的元素下标\n",
    "    return left \n",
    "def f34(nums, target):\n",
    "    start = lower_bound1(nums, target)\n",
    "    if start == len(nums) or nums[start] != target:\n",
    "        return [-1, -1]\n",
    "    end = lower_bound1(nums, target+1) - 1\n",
    "    return [start, end]\n",
    "\n",
    "nums = [5,7,7,8,8,10]\n",
    "target = 8\n",
    "print(f34(nums, target))\n"
   ]
  },
  {
   "cell_type": "code",
   "execution_count": 10,
   "metadata": {},
   "outputs": [
    {
     "name": "stdout",
     "output_type": "stream",
     "text": [
      "[3, 4]\n"
     ]
    }
   ],
   "source": [
    "## 半闭区间\n",
    "def lower_bound2(nums, target):\n",
    "    left, right = 0, len(nums)\n",
    "    while left < right: #半闭区间\n",
    "        # 循环不变量：\n",
    "            # nums[left-1] < target\n",
    "            # nums[right] >= target\n",
    "            mid = (left + right)//2\n",
    "            if nums[mid] >= target:\n",
    "                right = mid # 范围缩小到 [left, mid)\n",
    "            else:\n",
    "                left = mid + 1 # 范围缩小到 [mid+1, right)\n",
    "            # 循环结束后 left = right\n",
    "            # 此时 nums[left-1] < target 而 nums[left] = nums[right] >= target\n",
    "            # 所以 left 就是第一个 >= target 的元素下标\n",
    "    return left\n",
    "def f34(nums, target):\n",
    "    start = lower_bound2(nums, target)\n",
    "    if start == len(nums) or nums[start] != target:\n",
    "        return [-1, -1]\n",
    "    end = lower_bound2(nums, target+1) - 1\n",
    "    return [start, end]\n",
    "\n",
    "nums = [5,7,7,8,8,10]\n",
    "target = 8\n",
    "print(f34(nums, target))"
   ]
  },
  {
   "cell_type": "code",
   "execution_count": 13,
   "metadata": {},
   "outputs": [
    {
     "name": "stdout",
     "output_type": "stream",
     "text": [
      "[3, 4]\n"
     ]
    }
   ],
   "source": [
    "## 开区间\n",
    "def lower_bound3(nums, target):\n",
    "    left, right = -1, len(nums)\n",
    "    while left+1 < right:\n",
    "        # 循环不变量：\n",
    "            # nums[left] < target\n",
    "            # nums[right] >= target\n",
    "        mid = (left + right)//2\n",
    "        if nums[mid] >= target:\n",
    "            right = mid \n",
    "        else:\n",
    "            left = mid\n",
    "        # 循环结束后 left+1 = right\n",
    "        # 此时 nums[left] < target 而 nums[right] >= target\n",
    "        # 所以 right 就是第一个 >= target 的元素下标\n",
    "    return left+1\n",
    "def f34(nums, target):\n",
    "    start = lower_bound3(nums, target)\n",
    "    if start == len(nums) or nums[start] != target:\n",
    "        return [-1, -1]\n",
    "    end = lower_bound3(nums, target+1) - 1\n",
    "    return [start, end]\n",
    "\n",
    "nums = [5,7,7,8,8,10]\n",
    "target = 8\n",
    "print(f34(nums, target))"
   ]
  },
  {
   "cell_type": "markdown",
   "metadata": {},
   "source": [
    "# 2529. 正整数和负整数的最大计数"
   ]
  },
  {
   "cell_type": "markdown",
   "metadata": {},
   "source": [
    "给你一个按 非递减顺序 排列的数组 nums ，返回正整数数目和负整数数目中的最大值。\n",
    "\n",
    "换句话讲，如果 nums 中正整数的数目是 pos ，而负整数的数目是 neg ，返回 pos 和 neg二者中的最大值。\n",
    "注意：0 既不是正整数也不是负整数。\n",
    "\n",
    " \n",
    "\n",
    "示例 1：\n",
    "\n",
    "输入：nums = [-2,-1,-1,1,2,3]\n",
    "输出：3\n",
    "解释：共有 3 个正整数和 3 个负整数。计数得到的最大值是 3 。\n",
    "示例 2：\n",
    "\n",
    "输入：nums = [-3,-2,-1,0,0,1,2]\n",
    "输出：3\n",
    "解释：共有 2 个正整数和 3 个负整数。计数得到的最大值是 3 。\n",
    "示例 3：\n",
    "\n",
    "输入：nums = [5,20,66,1314]\n",
    "输出：4\n",
    "解释：共有 4 个正整数和 0 个负整数。计数得到的最大值是 4 。\n",
    " \n",
    "\n",
    "提示：\n",
    "\n",
    "1 <= nums.length <= 2000\n",
    "-2000 <= nums[i] <= 2000\n",
    "nums 按 非递减顺序 排列。"
   ]
  },
  {
   "cell_type": "code",
   "execution_count": null,
   "metadata": {},
   "outputs": [
    {
     "name": "stdout",
     "output_type": "stream",
     "text": [
      "3\n"
     ]
    }
   ],
   "source": [
    "def low_bound(nums, target):\n",
    "        left, right = -1, len(nums)\n",
    "        while left + 1 < right:\n",
    "            mid = (left + right)//2\n",
    "            if nums[mid] >= target:\n",
    "                right = mid \n",
    "            else:\n",
    "                left = mid\n",
    "        return left + 1\n",
    "\n",
    "def f2529(nums):\n",
    "        #核心是找到第一个正整数的位置，找到以后就切分计数了\n",
    "        neg = low_bound(nums, 0)\n",
    "        pos = len(nums) -low_bound(nums, 1) \n",
    "        return max(neg, pos)\n",
    "nums = [-2,-1,-1,1,2,3]\n",
    "print(f2529(nums))"
   ]
  },
  {
   "cell_type": "markdown",
   "metadata": {},
   "source": [
    "# 2300. 咒语和药水的成功对数"
   ]
  },
  {
   "cell_type": "markdown",
   "metadata": {},
   "source": [
    "给你两个正整数数组 spells 和 potions ，长度分别为 n 和 m ，其中 spells[i] 表示第 i 个咒语的能量强度，potions[j] 表示第 j 瓶药水的能量强度。\n",
    "\n",
    "同时给你一个整数 success 。一个咒语和药水的能量强度 相乘 如果 大于等于 success ，那么它们视为一对 成功 的组合。\n",
    "\n",
    "请你返回一个长度为 n 的整数数组 pairs，其中 pairs[i] 是能跟第 i 个咒语成功组合的 药水 数目。\n",
    "\n",
    " \n",
    "\n",
    "示例 1：  \n",
    "\n",
    "输入：spells = [5,1,3], potions = [1,2,3,4,5], success = 7  \n",
    "输出：[4,0,3]  \n",
    "解释：  \n",
    "- 第 0 个咒语：5 * [1,2,3,4,5] = [5,10,15,20,25] 。总共 4 个成功组合。  \n",
    "- 第 1 个咒语：1 * [1,2,3,4,5] = [1,2,3,4,5] 。总共 0 个成功组合。  \n",
    "- 第 2 个咒语：3 * [1,2,3,4,5] = [3,6,9,12,15] 。总共 3 个成功组合。  \n",
    "所以返回 [4,0,3] 。  \n",
    "\n",
    "\n",
    "示例 2：\n",
    "\n",
    "输入：spells = [3,1,2], potions = [8,5,8], success = 16  \n",
    "输出：[2,0,2]  \n",
    "解释：  \n",
    "- 第 0 个咒语：3 * [8,5,8] = [24,15,24] 。总共 2 个成功组合。  \n",
    "- 第 1 个咒语：1 * [8,5,8] = [8,5,8] 。总共 0 个成功组合。  \n",
    "- 第 2 个咒语：2 * [8,5,8] = [16,10,16] 。总共 2 个成功组合。  \n",
    "所以返回 [2,0,2] 。\n",
    " \n",
    "\n",
    "提示：\n",
    "\n",
    "n == spells.length  \n",
    "m == potions.length  \n",
    "1 <= n, m <= 105  \n",
    "1 <= spells[i], potions[i] <= 105  \n",
    "1 <= success <= 1010  "
   ]
  },
  {
   "cell_type": "code",
   "execution_count": null,
   "metadata": {},
   "outputs": [
    {
     "name": "stdout",
     "output_type": "stream",
     "text": [
      "[4, 0, 3]\n"
     ]
    }
   ],
   "source": [
    "def lower_bound(nums, target):\n",
    "    left, right = -1, len(nums)\n",
    "    while left+1 < right:\n",
    "        mid = (left + right)//2\n",
    "        if nums[mid] >= target:\n",
    "            right = mid\n",
    "        else :\n",
    "            left = mid \n",
    "    return left + 1\n",
    "\n",
    "def f2300(spells, potions, success):\n",
    "    #时间复杂度：𝑂(𝑚log⁡𝑚+𝑛log⁡𝑚)\n",
    "    #空间复杂度：𝑂(𝑛)\n",
    "    potions.sort()\n",
    "    m = len(potions)\n",
    "    success -= 1\n",
    "    ans = []\n",
    "\n",
    "    for spell in spells:\n",
    "        min_potion_index = lower_bound(potions, success // spell + 1)\n",
    "        successful_count = m - min_potion_index\n",
    "        ans.append(successful_count)\n",
    "    return ans\n",
    "\n",
    "spells = [5,1,3]\n",
    "potions = [1,2,3,4,5]\n",
    "success = 7\n",
    "print(f2300(spells, potions, success))"
   ]
  },
  {
   "cell_type": "markdown",
   "metadata": {},
   "source": [
    "# 2563. 统计公平数对的数目"
   ]
  },
  {
   "cell_type": "markdown",
   "metadata": {},
   "source": [
    "给你一个下标从 0 开始、长度为 n 的整数数组 nums ，和两个整数 lower 和 upper ，返回 公平数对的数目 。\n",
    "\n",
    "如果 (i, j) 数对满足以下情况，则认为它是一个 公平数对 ：\n",
    "\n",
    "0 <= i < j < n，且\n",
    "lower <= nums[i] + nums[j] <= upper\n",
    " \n",
    "\n",
    "示例 1：\n",
    "\n",
    "输入：nums = [0,1,7,4,4,5], lower = 3, upper = 6\n",
    "输出：6\n",
    "解释：共计 6 个公平数对：(0,3)、(0,4)、(0,5)、(1,3)、(1,4) 和 (1,5) 。\n",
    "示例 2：\n",
    "\n",
    "输入：nums = [1,7,9,2,5], lower = 11, upper = 11\n",
    "输出：1\n",
    "解释：只有单个公平数对：(2,3) 。\n",
    " \n",
    "\n",
    "提示：\n",
    "\n",
    "1 <= nums.length <= 105\n",
    "nums.length == n\n",
    "-109 <= nums[i] <= 109\n",
    "-109 <= lower <= upper <= 109"
   ]
  },
  {
   "cell_type": "code",
   "execution_count": 19,
   "metadata": {},
   "outputs": [
    {
     "name": "stdout",
     "output_type": "stream",
     "text": [
      "6\n"
     ]
    }
   ],
   "source": [
    "def lower_bound(nums, target):\n",
    "    left, right = -1, len(nums)\n",
    "    while left+1 < right:\n",
    "        mid = (left + right)//2\n",
    "        if nums[mid] >= target:\n",
    "            right = mid\n",
    "        else :\n",
    "            left = mid \n",
    "    return left + 1\n",
    "def f2563(nums, lower, upper):\n",
    "    ans = 0\n",
    "    nums.sort()\n",
    "    for j, x in enumerate(nums):\n",
    "        r = lower_bound(nums[:j], upper - x + 1)\n",
    "        l = lower_bound(nums[:j], lower - x)\n",
    "\n",
    "        ans += r-l\n",
    "    return ans \n",
    "nums = [0,1,7,4,4,5]\n",
    "lower = 3\n",
    "upper = 6\n",
    "print(f2563(nums, lower, upper))"
   ]
  }
 ],
 "metadata": {
  "kernelspec": {
   "display_name": "Python 3",
   "language": "python",
   "name": "python3"
  },
  "language_info": {
   "codemirror_mode": {
    "name": "ipython",
    "version": 3
   },
   "file_extension": ".py",
   "mimetype": "text/x-python",
   "name": "python",
   "nbconvert_exporter": "python",
   "pygments_lexer": "ipython3",
   "version": "3.12.1"
  }
 },
 "nbformat": 4,
 "nbformat_minor": 2
}
