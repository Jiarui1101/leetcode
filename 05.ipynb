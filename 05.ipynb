{
 "cells": [
  {
   "cell_type": "markdown",
   "metadata": {},
   "source": [
    "# 162. 寻找峰值"
   ]
  },
  {
   "cell_type": "markdown",
   "metadata": {},
   "source": [
    "峰值元素是指其值严格大于左右相邻值的元素。\n",
    "\n",
    "给你一个整数数组 nums，找到峰值元素并返回其索引。数组可能包含多个峰值，在这种情况下，返回 任何一个峰值 所在位置即可。\n",
    "\n",
    "你可以假设 nums[-1] = nums[n] = -∞ 。\n",
    "\n",
    "你必须实现时间复杂度为 O(log n) 的算法来解决此问题。\n",
    "\n",
    " \n",
    "\n",
    "示例 1：\n",
    "\n",
    "输入：nums = [1,2,3,1]\n",
    "输出：2\n",
    "解释：3 是峰值元素，你的函数应该返回其索引 2。\n",
    "示例 2：\n",
    "\n",
    "输入：nums = [1,2,1,3,5,6,4]\n",
    "输出：1 或 5 \n",
    "解释：你的函数可以返回索引 1，其峰值元素为 2；\n",
    "     或者返回索引 5， 其峰值元素为 6。\n",
    " \n",
    "\n",
    "提示：\n",
    "\n",
    "1 <= nums.length <= 1000\n",
    "-231 <= nums[i] <= 231 - 1\n",
    "对于所有有效的 i 都有 nums[i] != nums[i + 1]"
   ]
  },
  {
   "cell_type": "code",
   "execution_count": null,
   "metadata": {},
   "outputs": [
    {
     "name": "stdout",
     "output_type": "stream",
     "text": [
      "2\n"
     ]
    }
   ],
   "source": [
    "# 这种题目没有确定的查找目标值，需要变动的编号\n",
    "def f162(nums):\n",
    "    left, right = -1, len(nums)-1 #开区间（0， n-1）\n",
    "    while left + 1 < right :\n",
    "        mid = (left + right)//2\n",
    "        if nums[mid] > nums[mid+1]: #蓝色: 峰值右边以及他就是峰值\n",
    "            right = mid \n",
    "        else: #题目中说明了两个相邻元素不相同，不存在相等\n",
    "            left = mid #红色:峰值左边\n",
    "        return left + 1\n",
    "nums = [1,2,3,1]\n",
    "print(f162(nums))"
   ]
  },
  {
   "cell_type": "markdown",
   "metadata": {},
   "source": [
    "# 153. 寻找旋转排序数组中的最小值"
   ]
  },
  {
   "cell_type": "markdown",
   "metadata": {},
   "source": [
    "已知一个长度为 n 的数组，预先按照升序排列，经由 1 到 n 次 旋转 后，得到输入数组。例如，原数组 nums = [0,1,2,4,5,6,7] 在变化后可能得到：\n",
    "若旋转 4 次，则可以得到 [4,5,6,7,0,1,2]\n",
    "若旋转 7 次，则可以得到 [0,1,2,4,5,6,7]\n",
    "注意，数组 [a[0], a[1], a[2], ..., a[n-1]] 旋转一次 的结果为数组 [a[n-1], a[0], a[1], a[2], ..., a[n-2]] 。\n",
    "\n",
    "给你一个元素值 互不相同 的数组 nums ，它原来是一个升序排列的数组，并按上述情形进行了多次旋转。请你找出并返回数组中的 最小元素 。\n",
    "\n",
    "你必须设计一个时间复杂度为 O(log n) 的算法解决此问题。\n",
    "\n",
    " \n",
    "\n",
    "示例 1：\n",
    "\n",
    "输入：nums = [3,4,5,1,2]\n",
    "输出：1\n",
    "解释：原数组为 [1,2,3,4,5] ，旋转 3 次得到输入数组。\n",
    "示例 2：\n",
    "\n",
    "输入：nums = [4,5,6,7,0,1,2]\n",
    "输出：0\n",
    "解释：原数组为 [0,1,2,4,5,6,7] ，旋转 3 次得到输入数组。\n",
    "示例 3：\n",
    "\n",
    "输入：nums = [11,13,15,17]\n",
    "输出：11\n",
    "解释：原数组为 [11,13,15,17] ，旋转 4 次得到输入数组。\n",
    " \n",
    "\n",
    "提示：\n",
    "\n",
    "n == nums.length\n",
    "1 <= n <= 5000\n",
    "-5000 <= nums[i] <= 5000\n",
    "nums 中的所有整数 互不相同\n",
    "nums 原来是一个升序排序的数组，并进行了 1 至 n 次旋转\n"
   ]
  },
  {
   "cell_type": "code",
   "execution_count": 2,
   "metadata": {},
   "outputs": [
    {
     "name": "stdout",
     "output_type": "stream",
     "text": [
      "1\n"
     ]
    }
   ],
   "source": [
    "# 原本递增的数组被变为了两端数据，特点是，最后一个数，为小数组中的最大值。\n",
    "# 如果比他大，则一定在大数组里面。如果比他小，则一定在小数组里面\n",
    "# 这种题目没有确定的查找目标值，需要变动的编号\n",
    "def f153(nums):\n",
    "    left, right = -1, len(nums)-1 #开区间（0， n-1），num(n-1)变成了大小衡量标定\n",
    "\n",
    "    while left+1 < right:\n",
    "        mid = (left + right)//2\n",
    "        if nums[mid] < nums[-1]: #nums[-1] = nums[n]\n",
    "            right = mid\n",
    "        else:\n",
    "            left = mid \n",
    "    return nums[left + 1]\n",
    "nums = [3,4,5,1,2]\n",
    "print(f153(nums))\n",
    "\n"
   ]
  },
  {
   "cell_type": "markdown",
   "metadata": {},
   "source": [
    "# 33. 搜索旋转排序数组"
   ]
  },
  {
   "cell_type": "markdown",
   "metadata": {},
   "source": [
    "整数数组 nums 按升序排列，数组中的值 互不相同 。\n",
    "\n",
    "在传递给函数之前，nums 在预先未知的某个下标 k（0 <= k < nums.length）上进行了 旋转，使数组变为 [nums[k], nums[k+1], ..., nums[n-1], nums[0], nums[1], ..., nums[k-1]]（下标 从 0 开始 计数）。例如， [0,1,2,4,5,6,7] 在下标 3 处经旋转后可能变为 [4,5,6,7,0,1,2] 。\n",
    "\n",
    "给你 旋转后 的数组 nums 和一个整数 target ，如果 nums 中存在这个目标值 target ，则返回它的下标，否则返回 -1 。\n",
    "\n",
    "你必须设计一个时间复杂度为 O(log n) 的算法解决此问题。\n",
    "\n",
    " \n",
    "\n",
    "示例 1：\n",
    "\n",
    "输入：nums = [4,5,6,7,0,1,2], target = 0\n",
    "输出：4\n",
    "示例 2：\n",
    "\n",
    "输入：nums = [4,5,6,7,0,1,2], target = 3\n",
    "输出：-1\n",
    "示例 3：\n",
    "\n",
    "输入：nums = [1], target = 0\n",
    "输出：-1\n",
    " \n",
    "\n",
    "提示：\n",
    "\n",
    "1 <= nums.length <= 5000\n",
    "-104 <= nums[i] <= 104\n",
    "nums 中的每个值都 独一无二\n",
    "题目数据保证 nums 在预先未知的某个下标上进行了旋转\n",
    "-104 <= target <= 104"
   ]
  },
  {
   "cell_type": "code",
   "execution_count": null,
   "metadata": {},
   "outputs": [],
   "source": []
  },
  {
   "cell_type": "code",
   "execution_count": 6,
   "metadata": {},
   "outputs": [
    {
     "name": "stdout",
     "output_type": "stream",
     "text": [
      "4\n"
     ]
    }
   ],
   "source": [
    "def f33(nums, target):\n",
    "    # 核心是既要查找target又要和nums[-1]比较\n",
    "    if not nums:return -1\n",
    "    left, right = 0, len(nums)-1 #封闭区间查找\n",
    "    while left <= right:\n",
    "        mid = (left + right)//2\n",
    "        if nums[mid] == target: return mid\n",
    "        \n",
    "        if nums[mid] >= nums[left]: # mid在大数组里面\n",
    "            if nums[left] <= target < nums[mid]:\n",
    "                right = mid - 1\n",
    "            else:\n",
    "                left = mid + 1\n",
    "        else: # mid在小数组里面\n",
    "            if nums[mid] < target <= nums[right]:\n",
    "                left = mid + 1\n",
    "            else:\n",
    "                right = mid - 1\n",
    "    return -1 #没有找到\n",
    "nums = [4,5,6,7,0,1,2]\n",
    "target = 0\n",
    "print(f33(nums, target))\n"
   ]
  },
  {
   "cell_type": "code",
   "execution_count": null,
   "metadata": {},
   "outputs": [],
   "source": [
    "def f33(nums, target):\n",
    "    if not nums:\n",
    "        return -1\n",
    "\n",
    "    left, right = -1, len(nums)  # 开区间查找\n",
    "    \n",
    "    while left + 1 < right:\n",
    "        mid = (left + right) // 2\n",
    "        if nums[mid] == target:\n",
    "            return mid\n",
    "\n",
    "        if nums[mid] >= nums[0]:  # mid在大数组里面\n",
    "            if nums[0] <= target < nums[mid]:\n",
    "                right = mid\n",
    "            else:\n",
    "                left = mid\n",
    "        else:  # mid在小数组里面\n",
    "            if nums[mid] < target <= nums[len(nums) - 1]:\n",
    "                left = mid\n",
    "            else:\n",
    "                right = mid\n",
    "\n",
    "    # 因为是左开右闭区间，所以最后检查nums[right]\n",
    "    if right < len(nums) and nums[right] == target:\n",
    "        return right\n",
    "    return -1  # 没有找到\n",
    "nums = [4,5,6,7,0,1,2]\n",
    "target = 0\n",
    "print(f33(nums, target))\n"
   ]
  },
  {
   "cell_type": "markdown",
   "metadata": {},
   "source": []
  }
 ],
 "metadata": {
  "kernelspec": {
   "display_name": "py_39",
   "language": "python",
   "name": "python3"
  },
  "language_info": {
   "codemirror_mode": {
    "name": "ipython",
    "version": 3
   },
   "file_extension": ".py",
   "mimetype": "text/x-python",
   "name": "python",
   "nbconvert_exporter": "python",
   "pygments_lexer": "ipython3",
   "version": "3.8.20"
  }
 },
 "nbformat": 4,
 "nbformat_minor": 2
}
