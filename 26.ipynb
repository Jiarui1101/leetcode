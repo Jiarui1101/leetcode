{
 "cells": [
  {
   "cell_type": "markdown",
   "metadata": {},
   "source": [
    "# 739. 每日温度"
   ]
  },
  {
   "cell_type": "markdown",
   "metadata": {},
   "source": [
    "给定一个整数数组 temperatures ，表示每天的温度，返回一个数组 answer ，其中 answer[i] 是指对于第 i 天，下一个更高温度出现在几天后。如果气温在这之后都不会升高，请在该位置用 0 来代替。\n",
    "\n",
    " \n",
    "\n",
    "示例 1:\n",
    "\n",
    "输入: temperatures = [73,74,75,71,69,72,76,73]\n",
    "输出: [1,1,4,2,1,1,0,0]\n",
    "示例 2:\n",
    "\n",
    "输入: temperatures = [30,40,50,60]\n",
    "输出: [1,1,1,0]\n",
    "示例 3:\n",
    "\n",
    "输入: temperatures = [30,60,90]\n",
    "输出: [1,1,0]\n",
    " \n",
    "\n",
    "提示：\n",
    "\n",
    "1 <= temperatures.length <= 105\n",
    "30 <= temperatures[i] <= 100"
   ]
  },
  {
   "cell_type": "code",
   "execution_count": 4,
   "metadata": {},
   "outputs": [
    {
     "data": {
      "text/plain": [
       "[1, 1, 4, 2, 1, 1, 0, 0]"
      ]
     },
     "execution_count": 4,
     "metadata": {},
     "output_type": "execute_result"
    }
   ],
   "source": [
    "def f739(temperatures):\n",
    "    n = len(temperatures)\n",
    "    ans = [0] * n\n",
    "    stack = []\n",
    "    # 从前往后版本\n",
    "    for i, t in enumerate(temperatures):#t = temperature[i]\n",
    "        while stack and t >= temperatures[stack[-1]]:\n",
    "            prev_index = stack.pop()  # 弹出栈顶元素索引\n",
    "            ans[prev_index] = i - prev_index  # 计算等待天数并存储\n",
    "        stack.append(i)\n",
    "    return ans \n",
    "\n",
    "    # # 从后向前版本\n",
    "    # for i in range(n-1, -1, -1):\n",
    "    #     t = temperatures[i]\n",
    "    #     while stack and t >= temperatures[stack[-1]]:\n",
    "    #         # 如果 新的数据 t 大于最右边元素。\n",
    "    #         # 则删除 原本的最右元素，维护一个单调元素\n",
    "    #         stack.pop()\n",
    "    #     if stack:\n",
    "    #         ans[i] = stack[-1] - i\n",
    "    #     stack.append(i)\n",
    "    # return ans\n",
    "\n",
    "\n",
    "temperatures = [73,74,75,71,69,72,76,73]\n",
    "f739(temperatures)\n"
   ]
  },
  {
   "cell_type": "markdown",
   "metadata": {},
   "source": [
    "# 42. 接雨水"
   ]
  },
  {
   "attachments": {
    "image.png": {
     "image/png": "[encoded data removed]"
    }
   },
   "cell_type": "markdown",
   "metadata": {},
   "source": [
    "给定 n 个非负整数表示每个宽度为 1 的柱子的高度图，计算按此排列的柱子，下雨之后能接多少雨水。\n",
    "\n",
    " \n",
    "\n",
    "示例 1：\n",
    "\n",
    "![image.png](attachment:image.png)\n",
    "\n",
    "输入：height = [0,1,0,2,1,0,1,3,2,1,2,1]\n",
    "输出：6\n",
    "解释：上面是由数组 [0,1,0,2,1,0,1,3,2,1,2,1] 表示的高度图，在这种情况下，可以接 6 个单位的雨水（蓝色部分表示雨水）。 \n",
    "示例 2：\n",
    "\n",
    "输入：height = [4,2,0,3,2,5]\n",
    "输出：9\n",
    " \n",
    "\n",
    "提示：\n",
    "\n",
    "n == height.length\n",
    "1 <= n <= 2 * 104\n",
    "0 <= height[i] <= 105"
   ]
  },
  {
   "cell_type": "code",
   "execution_count": 18,
   "metadata": {},
   "outputs": [
    {
     "name": "stdout",
     "output_type": "stream",
     "text": [
      "6\n",
      "6\n",
      "6\n"
     ]
    }
   ],
   "source": [
    "def f42_1(height):\n",
    "    # 双指针\n",
    "    n = len(height)\n",
    "    ans = 0\n",
    "    l, r = 0, n-1\n",
    "    l_max, r_max = 0, 0\n",
    "    while l < r:\n",
    "        l_max = max(l_max, height[l])\n",
    "        r_max = max(r_max, height[r])\n",
    "        if l_max < r_max:\n",
    "            ans += l_max - height[l]\n",
    "            l += 1\n",
    "        else:\n",
    "            ans += r_max - height[r]\n",
    "            r -= 1\n",
    "    return ans \n",
    "\n",
    "def f42_2(height):\n",
    "    # 两个空间\n",
    "    n = len(height)\n",
    "    pre_max = [0] * n\n",
    "    pre_max[0] = height[0]\n",
    "    for i in range(1, n):\n",
    "        pre_max[i] = max(pre_max[i-1], height[i])\n",
    "    \n",
    "    suf_max = [0] * n\n",
    "    suf_max[-1] = height[-1]\n",
    "    for i in range(n-2, -1, -1):\n",
    "        suf_max[i] = max(suf_max[i+1], height[i])\n",
    "    \n",
    "    ans = 0\n",
    "    for h, pre, suf in zip(height, pre_max, suf_max):\n",
    "        ans += min(pre, suf) - h\n",
    "    return ans\n",
    "\n",
    "def f42_3(height):\n",
    "    # 单调栈的横着计算\n",
    "    ans = 0\n",
    "    st = []\n",
    "    for i, h in enumerate(height):\n",
    "        while st and h >= height[st[-1]]:\n",
    "            bottom_h = height[st.pop()]\n",
    "            if not st:  # len(st) == 0\n",
    "                break\n",
    "            left = st[-1]\n",
    "            dh = min(height[left], h) - bottom_h  # 面积的高\n",
    "            ans += dh * (i - left - 1)\n",
    "        st.append(i)\n",
    "    return ans\n",
    "\n",
    "height = [0,1,0,2,1,0,1,3,2,1,2,1]\n",
    "print(f42_1(height))\n",
    "print(f42_2(height))\n",
    "print(f42_3(height))"
   ]
  }
 ],
 "metadata": {
  "kernelspec": {
   "display_name": "Python 3",
   "language": "python",
   "name": "python3"
  },
  "language_info": {
   "codemirror_mode": {
    "name": "ipython",
    "version": 3
   },
   "file_extension": ".py",
   "mimetype": "text/x-python",
   "name": "python",
   "nbconvert_exporter": "python",
   "pygments_lexer": "ipython3",
   "version": "3.12.1"
  }
 },
 "nbformat": 4,
 "nbformat_minor": 2
}
