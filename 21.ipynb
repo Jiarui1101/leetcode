{
 "cells": [
  {
   "cell_type": "markdown",
   "metadata": {},
   "source": [
    "# 121. 买卖股票的最佳时机"
   ]
  },
  {
   "cell_type": "markdown",
   "metadata": {},
   "source": [
    "给定一个数组 prices ，它的第 i 个元素 prices[i] 表示一支给定股票第 i 天的价格。\n",
    "\n",
    "你只能选择 某一天 买入这只股票，并选择在 未来的某一个不同的日子 卖出该股票。设计一个算法来计算你所能获取的最大利润。\n",
    "\n",
    "返回你可以从这笔交易中获取的最大利润。如果你不能获取任何利润，返回 0 。\n",
    "\n",
    " \n",
    "\n",
    "示例 1：\n",
    "\n",
    "输入：[7,1,5,3,6,4]\n",
    "输出：5\n",
    "解释：在第 2 天（股票价格 = 1）的时候买入，在第 5 天（股票价格 = 6）的时候卖出，最大利润 = 6-1 = 5 。\n",
    "     注意利润不能是 7-1 = 6, 因为卖出价格需要大于买入价格；同时，你不能在买入前卖出股票。\n",
    "示例 2：\n",
    "\n",
    "输入：prices = [7,6,4,3,1]\n",
    "输出：0\n",
    "解释：在这种情况下, 没有交易完成, 所以最大利润为 0。\n",
    " \n",
    "\n",
    "提示：\n",
    "\n",
    "1 <= prices.length <= 105\n",
    "0 <= prices[i] <= 104"
   ]
  },
  {
   "cell_type": "code",
   "execution_count": 4,
   "metadata": {},
   "outputs": [
    {
     "data": {
      "text/plain": [
       "0"
      ]
     },
     "execution_count": 4,
     "metadata": {},
     "output_type": "execute_result"
    }
   ],
   "source": [
    "# 就交易一笔，就是贪心算法\n",
    "def f121(prices):\n",
    "    cost = float(\"inf\") \n",
    "    profit = 0\n",
    "    for price in prices:\n",
    "        cost = min(cost, price)\n",
    "        profit = max(profit, price - cost)\n",
    "    return profit\n",
    "prices = [7,6,4,3,1]\n",
    "f121(prices)"
   ]
  },
  {
   "cell_type": "markdown",
   "metadata": {},
   "source": [
    "# 122. 买卖股票的最佳时机 II"
   ]
  },
  {
   "cell_type": "markdown",
   "metadata": {},
   "source": [
    "给你一个整数数组 prices ，其中 prices[i] 表示某支股票第 i 天的价格。\n",
    "\n",
    "在每一天，你可以决定是否购买和/或出售股票。你在任何时候 最多 只能持有 一股 股票。你也可以先购买，然后在 同一天 出售。\n",
    "\n",
    "返回 你能获得的 最大 利润 。\n",
    "\n",
    " \n",
    "\n",
    "示例 1：\n",
    "\n",
    "输入：prices = [7,1,5,3,6,4]\n",
    "输出：7\n",
    "解释：在第 2 天（股票价格 = 1）的时候买入，在第 3 天（股票价格 = 5）的时候卖出, 这笔交易所能获得利润 = 5 - 1 = 4。\n",
    "随后，在第 4 天（股票价格 = 3）的时候买入，在第 5 天（股票价格 = 6）的时候卖出, 这笔交易所能获得利润 = 6 - 3 = 3。\n",
    "最大总利润为 4 + 3 = 7 。\n",
    "示例 2：\n",
    "\n",
    "输入：prices = [1,2,3,4,5]\n",
    "输出：4\n",
    "解释：在第 1 天（股票价格 = 1）的时候买入，在第 5 天 （股票价格 = 5）的时候卖出, 这笔交易所能获得利润 = 5 - 1 = 4。\n",
    "最大总利润为 4 。\n",
    "示例 3：\n",
    "\n",
    "输入：prices = [7,6,4,3,1]\n",
    "输出：0\n",
    "解释：在这种情况下, 交易无法获得正利润，所以不参与交易可以获得最大利润，最大利润为 0。\n",
    " \n",
    "\n",
    "提示：\n",
    "\n",
    "1 <= prices.length <= 3 * 104\n",
    "0 <= prices[i] <= 104"
   ]
  },
  {
   "cell_type": "code",
   "execution_count": null,
   "metadata": {},
   "outputs": [],
   "source": [
    "# 每一天都可以进行交易了，交易包含了买和卖\n",
    "# dfs(i, hold),从后往前设计，表示递归优化，hold，表示这一天开始是1否0持有股票\n",
    "# dfs(i, 1) = max(dfs(i-1, 1), dfs(i-1, 0) - price[i])\n",
    "\n",
    "# dfs(i, 0) = max(dfs(i-1, 0), dfs(i-1, 1) + price[i])\n",
    "\n",
    "# 边界条件，从dfs(i-1, False)开始\n",
    "# dfs(0, 1) = -\"inf\",因为这是不合法的, dfs(0, 0) = 0"
   ]
  },
  {
   "cell_type": "code",
   "execution_count": 16,
   "metadata": {},
   "outputs": [
    {
     "data": {
      "text/plain": [
       "7"
      ]
     },
     "execution_count": 16,
     "metadata": {},
     "output_type": "execute_result"
    }
   ],
   "source": [
    "from functools import lru_cache\n",
    "def f122(prices):\n",
    "    n = len(prices)\n",
    "    def dfs(i, hold):\n",
    "        if i < 0:\n",
    "            return 0 if not hold else float(\"-inf\")\n",
    "        if hold:\n",
    "            return max(dfs(i-1, True), dfs(i-1, False) - prices[i])\n",
    "        return max(dfs(i-1, False), dfs(i-1, True) + prices[i])\n",
    "    \n",
    "    return dfs(n-1, False)\n",
    "\n",
    "prices = [7,1,5,3,6,4]\n",
    "f122(prices)"
   ]
  },
  {
   "cell_type": "code",
   "execution_count": 17,
   "metadata": {},
   "outputs": [
    {
     "data": {
      "text/plain": [
       "7"
      ]
     },
     "execution_count": 17,
     "metadata": {},
     "output_type": "execute_result"
    }
   ],
   "source": [
    "# 一比一翻译成为递推数组\n",
    "# dfs(i, hold) = f[i][hold]\n",
    "\n",
    "def f122_dp1(prices):\n",
    "    n = len(prices)\n",
    "    f = [[0] * 2 for _ in range(n+1)]\n",
    "    f[0][1] = float(\"-inf\")\n",
    "    for i, price in enumerate(prices):\n",
    "        f[i+1][0] = max(f[i][0], f[i][1] + price)\n",
    "        f[i+1][1] = max(f[i][1], f[i][0] - price)\n",
    "    return f[n][0]\n",
    "prices = [7,1,5,3,6,4]\n",
    "f122_dp1(prices)"
   ]
  },
  {
   "cell_type": "code",
   "execution_count": 18,
   "metadata": {},
   "outputs": [
    {
     "data": {
      "text/plain": [
       "7"
      ]
     },
     "execution_count": 18,
     "metadata": {},
     "output_type": "execute_result"
    }
   ],
   "source": [
    "# f[i]维度的数据可以优化，因为，f[i]由f[i-1]转化而来\n",
    "def f122_dp2(prices):\n",
    "    f1 = float(\"-inf\")\n",
    "    f0 = 0\n",
    "    for price in prices:\n",
    "        new_f0 = max(f0, f1 + price)\n",
    "        f1 = max(f1, f0 - price)\n",
    "        f0 = new_f0\n",
    "\n",
    "        # f[i+1][0] = max(f[i][0], f[i][1] + price)\n",
    "        # f[i+1][1] = max(f[i][1], f[i][0] - price)\n",
    "    return f0\n",
    "prices = [7,1,5,3,6,4]\n",
    "f122_dp1(prices)"
   ]
  },
  {
   "cell_type": "markdown",
   "metadata": {},
   "source": [
    "# 309. 买卖股票的最佳时机含冷冻期"
   ]
  },
  {
   "cell_type": "markdown",
   "metadata": {},
   "source": [
    "给定一个整数数组prices，其中第  prices[i] 表示第 i 天的股票价格 。​\n",
    "\n",
    "设计一个算法计算出最大利润。在满足以下约束条件下，你可以尽可能地完成更多的交易（多次买卖一支股票）:\n",
    "\n",
    "卖出股票后，你无法在第二天买入股票 (即冷冻期为 1 天)。\n",
    "注意：你不能同时参与多笔交易（你必须在再次购买前出售掉之前的股票）。\n",
    "\n",
    " \n",
    "\n",
    "示例 1:\n",
    "\n",
    "输入: prices = [1,2,3,0,2]\n",
    "输出: 3 \n",
    "解释: 对应的交易状态为: [买入, 卖出, 冷冻期, 买入, 卖出]\n",
    "\n",
    "\n",
    "示例 2:\n",
    "\n",
    "输入: prices = [1]\n",
    "输出: 0\n",
    " \n",
    "\n",
    "提示：\n",
    "\n",
    "1 <= prices.length <= 5000\n",
    "0 <= prices[i] <= 1000"
   ]
  },
  {
   "cell_type": "code",
   "execution_count": 30,
   "metadata": {},
   "outputs": [
    {
     "data": {
      "text/plain": [
       "3"
      ]
     },
     "execution_count": 30,
     "metadata": {},
     "output_type": "execute_result"
    }
   ],
   "source": [
    "# 核心是结合打家劫舍问题，让状态转移滞后一期\n",
    "from functools import lru_cache\n",
    "def f309(prices):\n",
    "    n = len(prices)\n",
    "    def dfs(i, hold):\n",
    "        if i < 0:\n",
    "            return 0 if not hold else float(\"-inf\")\n",
    "        if hold:\n",
    "            return max(dfs(i-1, True), dfs(i-2, False) - prices[i])\n",
    "        return max(dfs(i-1, False), dfs(i-1, True) + prices[i])\n",
    "    \n",
    "    return dfs(n-1, False)\n",
    "\n",
    "prices = [1,2,3,0,2]\n",
    "f309(prices)"
   ]
  },
  {
   "cell_type": "code",
   "execution_count": 32,
   "metadata": {},
   "outputs": [
    {
     "data": {
      "text/plain": [
       "3"
      ]
     },
     "execution_count": 32,
     "metadata": {},
     "output_type": "execute_result"
    }
   ],
   "source": [
    "# 一比一翻译成为递推数组\n",
    "# dfs(i, hold) = f[i][hold]\n",
    "\n",
    "def f309_dp1(prices):\n",
    "    n = len(prices)\n",
    "    f = [[0] * 2 for _ in range(n+2)]\n",
    "    f[1][1] = float(\"-inf\")\n",
    "    for i, price in enumerate(prices):\n",
    "        f[i+2][0] = max(f[i+1][0], f[i+1][1] + price)\n",
    "        f[i+2][1] = max(f[i+1][1], f[i][0] - price)\n",
    "    return f[n+1][0]\n",
    "\n",
    "prices = [1,2,3,0,2]\n",
    "f309_dp1(prices)"
   ]
  },
  {
   "cell_type": "code",
   "execution_count": 36,
   "metadata": {},
   "outputs": [
    {
     "data": {
      "text/plain": [
       "3"
      ]
     },
     "execution_count": 36,
     "metadata": {},
     "output_type": "execute_result"
    }
   ],
   "source": [
    "def f309_dp2(prices):\n",
    "    \n",
    "    pre0 = 0\n",
    "    f0 = 0\n",
    "    f1 = float(\"-inf\")\n",
    "    for p in prices:\n",
    "        pre0, f0, f1 = f0, max(f0, f1 + p), max(f1, pre0 - p)\n",
    "\n",
    "\n",
    "        # f[i+1][0] = max(f[i][0], f[i][1] + price)\n",
    "        # f[i+1][1] = max(f[i][1], f[i][0] - price)\n",
    "    return f0\n",
    "prices = [1,2,3,0,2]\n",
    "f309_dp2(prices)"
   ]
  },
  {
   "cell_type": "markdown",
   "metadata": {},
   "source": [
    "# 188. 买卖股票的最佳时机 IV"
   ]
  },
  {
   "cell_type": "markdown",
   "metadata": {},
   "source": [
    "给你一个整数数组 prices 和一个整数 k ，其中 prices[i] 是某支给定的股票在第 i 天的价格。\n",
    "\n",
    "设计一个算法来计算你所能获取的最大利润。你最多可以完成 k 笔交易。也就是说，你最多可以买 k 次，卖 k 次。\n",
    "\n",
    "注意：你不能同时参与多笔交易（你必须在再次购买前出售掉之前的股票）。\n",
    "\n",
    " \n",
    "\n",
    "示例 1：\n",
    "\n",
    "输入：k = 2, prices = [2,4,1]\n",
    "输出：2\n",
    "解释：在第 1 天 (股票价格 = 2) 的时候买入，在第 2 天 (股票价格 = 4) 的时候卖出，这笔交易所能获得利润 = 4-2 = 2 。\n",
    "示例 2：\n",
    "\n",
    "输入：k = 2, prices = [3,2,6,5,0,3]\n",
    "输出：7\n",
    "解释：在第 2 天 (股票价格 = 2) 的时候买入，在第 3 天 (股票价格 = 6) 的时候卖出, 这笔交易所能获得利润 = 6-2 = 4 。\n",
    "     随后，在第 5 天 (股票价格 = 0) 的时候买入，在第 6 天 (股票价格 = 3) 的时候卖出, 这笔交易所能获得利润 = 3-0 = 3 。\n",
    " \n",
    "\n",
    "提示：\n",
    "\n",
    "1 <= k <= 100\n",
    "1 <= prices.length <= 1000\n",
    "0 <= prices[i] <= 1000"
   ]
  },
  {
   "cell_type": "code",
   "execution_count": 40,
   "metadata": {},
   "outputs": [
    {
     "data": {
      "text/plain": [
       "7"
      ]
     },
     "execution_count": 40,
     "metadata": {},
     "output_type": "execute_result"
    }
   ],
   "source": [
    "# 因为加入了一个交易次数要求，需要引入一个新的数据维度\n",
    "# 其次，买＋卖才是一个完整的交易次数，因此，交易次数合计可以在买或者卖的位置\n",
    "def f188(prices, k):\n",
    "    n = len(prices)\n",
    "    @lru_cache\n",
    "    def dfs(i, j , hold):\n",
    "        if j < 0:\n",
    "            return float(\"-inf\")\n",
    "        if i < 0:\n",
    "            return 0 if not hold else float(\"-inf\")\n",
    "        if hold:\n",
    "            return max(dfs(i-1, j, True), dfs(i-1, j-1, False) - prices[i])\n",
    "        return max(dfs(i-1, j, False), dfs(i-1, j, True) + prices[i]) \n",
    "    return dfs(n-1, k, False)\n",
    "k = 2\n",
    "prices = [3,2,6,5,0,3]\n",
    "f188(prices, k)"
   ]
  },
  {
   "cell_type": "code",
   "execution_count": null,
   "metadata": {},
   "outputs": [],
   "source": [
    "# 一比一翻译\n",
    "def f188_dp1(prices, k):\n",
    "    n = len(prices)\n",
    "    f = [[[float(\"-inf\")]*2 for _ in range(k+2)]for _ in range(n+1)]\n",
    "    for j in range(1, k+2):\n",
    "        f[0][j][0] = 0\n",
    "    for i, p in enumerate(prices):\n",
    "        for j in range(1, k+2):\n",
    "                f[i + 1][j][0] = max(f[i][j][0], f[i][j][1] + p)\n",
    "                f[i + 1][j][1] = max(f[i][j][1], f[i][j - 1][0] - p)\n",
    "    return f[-1][-1][0]\n"
   ]
  },
  {
   "cell_type": "code",
   "execution_count": 41,
   "metadata": {},
   "outputs": [],
   "source": [
    "# 空间优化\n",
    "def f188_dp12(prices, k):\n",
    "    f = [[-inf] * 2 for _ in range(k + 2)]\n",
    "    for j in range(1, k + 2):\n",
    "        f[j][0] = 0\n",
    "    for p in prices:\n",
    "        for j in range(k + 1, 0, -1):\n",
    "            f[j][0] = max(f[j][0], f[j][1] + p)\n",
    "            f[j][1] = max(f[j][1], f[j - 1][0] - p)\n",
    "    return f[-1][0]"
   ]
  },
  {
   "cell_type": "code",
   "execution_count": null,
   "metadata": {},
   "outputs": [],
   "source": []
  }
 ],
 "metadata": {
  "kernelspec": {
   "display_name": "py_39",
   "language": "python",
   "name": "python3"
  },
  "language_info": {
   "codemirror_mode": {
    "name": "ipython",
    "version": 3
   },
   "file_extension": ".py",
   "mimetype": "text/x-python",
   "name": "python",
   "nbconvert_exporter": "python",
   "pygments_lexer": "ipython3",
   "version": "3.8.20"
  }
 },
 "nbformat": 4,
 "nbformat_minor": 2
}
