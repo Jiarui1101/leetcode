{
 "cells": [
  {
   "cell_type": "markdown",
   "metadata": {},
   "source": [
    "# 198. 打家劫舍"
   ]
  },
  {
   "cell_type": "markdown",
   "metadata": {},
   "source": [
    "你是一个专业的小偷，计划偷窃沿街的房屋。每间房内都藏有一定的现金，影响你偷窃的唯一制约因素就是相邻的房屋装有相互连通的防盗系统，如果两间相邻的房屋在同一晚上被小偷闯入，系统会自动报警。\n",
    "\n",
    "给定一个代表每个房屋存放金额的非负整数数组，计算你 不触动警报装置的情况下 ，一夜之内能够偷窃到的最高金额。\n",
    "\n",
    " \n",
    "\n",
    "示例 1：\n",
    "\n",
    "输入：[1,2,3,1]\n",
    "输出：4\n",
    "解释：偷窃 1 号房屋 (金额 = 1) ，然后偷窃 3 号房屋 (金额 = 3)。\n",
    "     偷窃到的最高金额 = 1 + 3 = 4 。\n",
    "     \n",
    "示例 2：\n",
    "\n",
    "输入：[2,7,9,3,1]\n",
    "输出：12\n",
    "解释：偷窃 1 号房屋 (金额 = 2), 偷窃 3 号房屋 (金额 = 9)，接着偷窃 5 号房屋 (金额 = 1)。\n",
    "     偷窃到的最高金额 = 2 + 9 + 1 = 12 。\n",
    " \n",
    "\n",
    "提示：\n",
    "\n",
    "1 <= nums.length <= 100\n",
    "0 <= nums[i] <= 400"
   ]
  },
  {
   "cell_type": "code",
   "execution_count": 4,
   "metadata": {},
   "outputs": [
    {
     "data": {
      "text/plain": [
       "12"
      ]
     },
     "execution_count": 4,
     "metadata": {},
     "output_type": "execute_result"
    }
   ],
   "source": [
    "#逐步来进行代码书写\n",
    "#第一版：时间复杂度完全不优化\n",
    "def f198(nums):\n",
    "    #当前操作：从最后一个房子开始决定，这个房子选还是不选\n",
    "    #子问题dfs(i)：从前i个房子得到的金额\n",
    "    #下一个子问题：从前i+1个房子得到的金额\n",
    "    #dfs(i) = max(dfs(i-1), dfs(i-2) + nums[i])\n",
    "    n = len(nums)\n",
    "    def dfs(i):\n",
    "        if i < 0:\n",
    "            return 0\n",
    "        res = max(dfs(i-1), dfs(i-2) + nums[i])\n",
    "        return res\n",
    "    return dfs(n-1)\n",
    "\n",
    "nums = [2,7,9,3,1]\n",
    "f198(nums)"
   ]
  },
  {
   "cell_type": "code",
   "execution_count": null,
   "metadata": {},
   "outputs": [
    {
     "ename": "NameError",
     "evalue": "name 'cache' is not defined",
     "output_type": "error",
     "traceback": [
      "\u001b[1;31m---------------------------------------------------------------------------\u001b[0m",
      "\u001b[1;31mNameError\u001b[0m                                 Traceback (most recent call last)",
      "Cell \u001b[1;32mIn[8], line 18\u001b[0m\n\u001b[0;32m     14\u001b[0m     \u001b[38;5;28;01mreturn\u001b[39;00m dfs(\u001b[38;5;28mlen\u001b[39m(nums)\u001b[38;5;241m-\u001b[39m\u001b[38;5;241m1\u001b[39m)\n\u001b[0;32m     17\u001b[0m nums \u001b[38;5;241m=\u001b[39m [\u001b[38;5;241m2\u001b[39m,\u001b[38;5;241m7\u001b[39m,\u001b[38;5;241m9\u001b[39m,\u001b[38;5;241m3\u001b[39m,\u001b[38;5;241m1\u001b[39m]\n\u001b[1;32m---> 18\u001b[0m \u001b[43mf198\u001b[49m\u001b[43m(\u001b[49m\u001b[43mnums\u001b[49m\u001b[43m)\u001b[49m\n",
      "Cell \u001b[1;32mIn[8], line 8\u001b[0m, in \u001b[0;36mf198\u001b[1;34m(nums)\u001b[0m\n\u001b[0;32m      3\u001b[0m \u001b[38;5;28;01mdef\u001b[39;00m \u001b[38;5;21mf198\u001b[39m(nums):\n\u001b[0;32m      4\u001b[0m     \u001b[38;5;66;03m#当前操作：从最后一个房子开始决定，这个房子选还是不选\u001b[39;00m\n\u001b[0;32m      5\u001b[0m     \u001b[38;5;66;03m#子问题dfs(i)：从前i个房子得到的金额\u001b[39;00m\n\u001b[0;32m      6\u001b[0m     \u001b[38;5;66;03m#下一个子问题：从前i+1个房子得到的金额\u001b[39;00m\n\u001b[0;32m      7\u001b[0m     \u001b[38;5;66;03m#dfs(i) = max(dfs(i-1), dfs(i-2) + nums[i])\u001b[39;00m\n\u001b[1;32m----> 8\u001b[0m     \u001b[38;5;129m@cache\u001b[39m\n\u001b[0;32m      9\u001b[0m     \u001b[38;5;28;01mdef\u001b[39;00m \u001b[38;5;21mdfs\u001b[39m(i):\n\u001b[0;32m     10\u001b[0m         \u001b[38;5;28;01mif\u001b[39;00m i \u001b[38;5;241m<\u001b[39m \u001b[38;5;241m0\u001b[39m:\n\u001b[0;32m     11\u001b[0m             \u001b[38;5;28;01mreturn\u001b[39;00m \u001b[38;5;241m0\u001b[39m\n",
      "\u001b[1;31mNameError\u001b[0m: name 'cache' is not defined"
     ]
    }
   ],
   "source": [
    "#逐步来进行代码书写\n",
    "#第二版：记忆化搜索\n",
    "def f198(nums):\n",
    "    #当前操作：从最后一个房子开始决定，这个房子选还是不选\n",
    "    #子问题dfs(i)：从前i个房子得到的金额\n",
    "    #下一个子问题：从前i+1个房子得到的金额\n",
    "    #dfs(i) = max(dfs(i-1), dfs(i-2) + nums[i])\n",
    "    @cache\n",
    "    def dfs(i):\n",
    "        if i < 0:\n",
    "            return 0\n",
    "        res = max(dfs(i-1), dfs(i-2) + nums[i])\n",
    "        return res\n",
    "    return dfs(len(nums)-1)\n",
    "            \n",
    "\n",
    "nums = [2,7,9,3,1]\n",
    "f198(nums)"
   ]
  },
  {
   "cell_type": "code",
   "execution_count": 10,
   "metadata": {},
   "outputs": [
    {
     "data": {
      "text/plain": [
       "12"
      ]
     },
     "execution_count": 10,
     "metadata": {},
     "output_type": "execute_result"
    }
   ],
   "source": [
    "#逐步来进行代码书写\n",
    "#第二版：记忆化搜索-手动维护cache\n",
    "def f198(nums):\n",
    "    #当前操作：从最后一个房子开始决定，这个房子选还是不选\n",
    "    #子问题dfs(i)：从前i个房子得到的金额\n",
    "    #下一个子问题：从前i+1个房子得到的金额\n",
    "    #dfs(i) = max(dfs(i-1), dfs(i-2) + nums[i])\n",
    "    cache = [-1] * len(nums)\n",
    "    def dfs(i):\n",
    "        if i < 0:\n",
    "            return 0\n",
    "        if cache[i] != -1:\n",
    "            return cache[i]\n",
    "        res = max(dfs(i-1), dfs(i-2) + nums[i])\n",
    "        cache[i] = res\n",
    "        return res\n",
    "    return dfs(len(nums)-1)\n",
    "            \n",
    "\n",
    "nums = [2,7,9,3,1]\n",
    "f198(nums)"
   ]
  },
  {
   "cell_type": "code",
   "execution_count": 13,
   "metadata": {},
   "outputs": [
    {
     "data": {
      "text/plain": [
       "12"
      ]
     },
     "execution_count": 13,
     "metadata": {},
     "output_type": "execute_result"
    }
   ],
   "source": [
    "#逐步来进行代码书写\n",
    "#第二版：记忆化搜索-装饰器\n",
    "from functools import lru_cache\n",
    "\n",
    "\n",
    "def f198(nums):\n",
    "    #当前操作：从最后一个房子开始决定，这个房子选还是不选\n",
    "    #子问题dfs(i)：从前i个房子得到的金额\n",
    "    #下一个子问题：从前i+1个房子得到的金额\n",
    "    #dfs(i) = max(dfs(i-1), dfs(i-2) + nums[i])\n",
    "    @lru_cache\n",
    "    def dfs(i):\n",
    "        if i < 0:\n",
    "            return 0\n",
    "        res = max(dfs(i-1), dfs(i-2) + nums[i])\n",
    "        return res\n",
    "    return dfs(len(nums)-1)\n",
    "            \n",
    "\n",
    "nums = [2,7,9,3,1]\n",
    "f198(nums)"
   ]
  },
  {
   "cell_type": "code",
   "execution_count": 15,
   "metadata": {},
   "outputs": [
    {
     "data": {
      "text/plain": [
       "12"
      ]
     },
     "execution_count": 15,
     "metadata": {},
     "output_type": "execute_result"
    }
   ],
   "source": [
    "def cache(func):\n",
    "    dic = {}  # 缓存存放之前计算的结果\n",
    "    def wrapper(i):\n",
    "        if i not in dic:  # 如果结果未被缓存，则调用函数并保存结果\n",
    "            dic[i] = func(i)\n",
    "        return dic[i]  # 返回缓存中的结果\n",
    "    return wrapper\n",
    "def f198(nums):\n",
    "    #当前操作：从最后一个房子开始决定，这个房子选还是不选\n",
    "    #子问题dfs(i)：从前i个房子得到的金额\n",
    "    #下一个子问题：从前i+1个房子得到的金额\n",
    "    #dfs(i) = max(dfs(i-1), dfs(i-2) + nums[i])\n",
    "    @cache\n",
    "    def dfs(i):\n",
    "        if i < 0:\n",
    "            return 0\n",
    "        res = max(dfs(i-1), dfs(i-2) + nums[i])\n",
    "        return res\n",
    "    return dfs(len(nums)-1)\n",
    "            \n",
    "\n",
    "nums = [2,7,9,3,1]\n",
    "f198(nums)\n"
   ]
  },
  {
   "cell_type": "code",
   "execution_count": 17,
   "metadata": {},
   "outputs": [
    {
     "data": {
      "text/plain": [
       "12"
      ]
     },
     "execution_count": 17,
     "metadata": {},
     "output_type": "execute_result"
    }
   ],
   "source": [
    "#逐步来进行代码书写\n",
    "#第三版：一比一翻译成递推\n",
    "# dfs - f 数组\n",
    "# 递归 - 循环\n",
    "# 递归边界 - 数组的初始值\n",
    "\n",
    "# dfs(i) = max(dfs(i-1), dfs(i-2) + nums[i])\n",
    "# f[i] = max(f[i-1], f[i-2] + nums[i])\n",
    "# f[i+2] = max(f[i+1], f[i] + nums[i])\n",
    "\n",
    "def f198(nums):\n",
    "    f = [0]*(len(nums) + 2)\n",
    "    for i, x in enumerate(nums):\n",
    "        f[i+2] = max(f[i+1], f[i] + x)\n",
    "    return f[len(nums)+1] # 因为前面多插入了两个，由n-1 变为 （n-1）+2\n",
    "    \n",
    "            \n",
    "\n",
    "nums = [2,7,9,3,1]\n",
    "f198(nums)"
   ]
  },
  {
   "cell_type": "code",
   "execution_count": null,
   "metadata": {},
   "outputs": [
    {
     "data": {
      "text/plain": [
       "12"
      ]
     },
     "execution_count": 18,
     "metadata": {},
     "output_type": "execute_result"
    }
   ],
   "source": [
    "#逐步来进行代码书写\n",
    "#第四版：DP动态规划-用滚动窗口优化\n",
    "# dfs - f 数组\n",
    "# 递归 - 循环\n",
    "# 递归边界 - 数组的初始值\n",
    "\n",
    "# dfs(i) = max(dfs(i-1), dfs(i-2) + nums[i])\n",
    "# f[i] = max(f[i-1], f[i-2] + nums[i])\n",
    "# f[i+2] = max(f[i+1], f[i] + nums[i])\n",
    "\n",
    "#当前 =max(上一个，上上个＋nums[i])\n",
    "# f0表示上上一个，f1表示上一个\n",
    "# newF = max(f1,f0+nums[i])\n",
    "# f0 = f1\n",
    "# f1 = newF \n",
    "\n",
    "def f198(nums):\n",
    "    f0 = f1 = 0\n",
    "    for i, x in enumerate(nums):\n",
    "        newF = max(f1,f0+x)\n",
    "        f0 = f1\n",
    "        f1 = newF\n",
    "    return f1 \n",
    "    \n",
    "            \n",
    "\n",
    "nums = [2,7,9,3,1]\n",
    "f198(nums)"
   ]
  },
  {
   "cell_type": "code",
   "execution_count": null,
   "metadata": {},
   "outputs": [
    {
     "data": {
      "text/plain": [
       "12"
      ]
     },
     "execution_count": 2,
     "metadata": {},
     "output_type": "execute_result"
    }
   ],
   "source": [
    "# !!!有怪东西！！！ \n",
    "def f198(nums):\n",
    "    # f0 = f1 = 0\n",
    "    # for x in nums:\n",
    "    #     f0 = f1\n",
    "    #     f1 = max(f1,f0 + x)\n",
    "    # return f1 \n",
    "    f0 = f1 = 0\n",
    "    for x in nums:\n",
    "        f0, f1 = f1, max(f1, f0 + x)\n",
    "        # f1 = max(f1, f0 + x)\n",
    "        # f0, f1 = f1, max(f1, f0 + x)\n",
    "    return f1\n",
    "\n",
    "    #\n",
    "            \n",
    "\n",
    "nums = [2,7,9,3,1]\n",
    "f198(nums)"
   ]
  },
  {
   "cell_type": "markdown",
   "metadata": {},
   "source": [
    "# 70. 爬楼梯"
   ]
  },
  {
   "cell_type": "markdown",
   "metadata": {},
   "source": [
    "假设你正在爬楼梯。需要 n 阶你才能到达楼顶。\n",
    "\n",
    "每次你可以爬 1 或 2 个台阶。你有多少种不同的方法可以爬到楼顶呢？\n",
    "\n",
    " \n",
    "\n",
    "示例 1：\n",
    "\n",
    "输入：n = 2\n",
    "输出：2\n",
    "解释：有两种方法可以爬到楼顶。\n",
    "1. 1 阶 + 1 阶\n",
    "2. 2 阶\n",
    "\n",
    "示例 2：\n",
    "\n",
    "输入：n = 3\n",
    "\n",
    "输出：3\n",
    "\n",
    "解释：有三种方法可以爬到楼顶。\n",
    "1. 1 阶 + 1 阶 + 1 阶\n",
    "2. 1 阶 + 2 阶\n",
    "3. 2 阶 + 1 阶\n",
    " \n",
    "\n",
    "提示：\n",
    "\n",
    "1 <= n <= 45"
   ]
  },
  {
   "cell_type": "code",
   "execution_count": null,
   "metadata": {},
   "outputs": [
    {
     "data": {
      "text/plain": [
       "5"
      ]
     },
     "execution_count": 8,
     "metadata": {},
     "output_type": "execute_result"
    }
   ],
   "source": [
    "#方法一：时间复杂度不优化的递归\n",
    "def f70(n):\n",
    "    #当前问题：你要跳一步还是两步到i层\n",
    "    #子问题，dfs(i)代表从前到达第i曾所需的 方法数\n",
    "    #dfs(i) = dfs(i-1)+dfs(i-2)\n",
    "    #下一个子问题，\n",
    "    def dfs(i):\n",
    "        if i <= 1:#边界条件，你在第一层的时候，只有一个方法\n",
    "            return 1\n",
    "        return dfs(i-1) + dfs(i-2)\n",
    "\n",
    "    return dfs(n)\n",
    "f70(4)"
   ]
  },
  {
   "cell_type": "code",
   "execution_count": 9,
   "metadata": {},
   "outputs": [
    {
     "data": {
      "text/plain": [
       "5"
      ]
     },
     "execution_count": 9,
     "metadata": {},
     "output_type": "execute_result"
    }
   ],
   "source": [
    "#方法二：记忆化搜素\n",
    "from functools import lru_cache\n",
    "@lru_cache\n",
    "def f70(n):\n",
    "    def dfs(i):\n",
    "        if i <= 1:#边界条件，你在第一层的时候，只有一个方法\n",
    "            return 1\n",
    "        return dfs(i-1) + dfs(i-2)\n",
    "\n",
    "    return dfs(n)\n",
    "f70(4)"
   ]
  }
 ],
 "metadata": {
  "kernelspec": {
   "display_name": "py_39",
   "language": "python",
   "name": "python3"
  },
  "language_info": {
   "codemirror_mode": {
    "name": "ipython",
    "version": 3
   },
   "file_extension": ".py",
   "mimetype": "text/x-python",
   "name": "python",
   "nbconvert_exporter": "python",
   "pygments_lexer": "ipython3",
   "version": "3.8.20"
  }
 },
 "nbformat": 4,
 "nbformat_minor": 2
}
