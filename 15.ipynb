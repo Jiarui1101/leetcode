{
 "cells": [
  {
   "cell_type": "markdown",
   "metadata": {},
   "source": [
    "# 77.组合"
   ]
  },
  {
   "cell_type": "markdown",
   "metadata": {},
   "source": [
    "给定两个整数 n 和 k，返回范围 [1, n] 中所有可能的 k 个数的组合。\n",
    "\n",
    "你可以按 任何顺序 返回答案。\n",
    "\n",
    " \n",
    "\n",
    "示例 1：\n",
    "\n",
    "输入：n = 4, k = 2\n",
    "输出：\n",
    "[\n",
    "  [2,4],\n",
    "  [3,4],\n",
    "  [2,3],\n",
    "  [1,2],\n",
    "  [1,3],\n",
    "  [1,4],\n",
    "]\n",
    "\n",
    "\n",
    "示例 2：\n",
    "\n",
    "输入：n = 1, k = 1\n",
    "输出：[[1]]\n",
    " \n",
    "\n",
    "提示：\n",
    "\n",
    "1 <= n <= 20\n",
    "1 <= k <= n"
   ]
  },
  {
   "cell_type": "code",
   "execution_count": null,
   "metadata": {},
   "outputs": [
    {
     "data": {
      "text/plain": [
       "[[4, 3]]"
      ]
     },
     "execution_count": 15,
     "metadata": {},
     "output_type": "execute_result"
    }
   ],
   "source": [
    "# 方法一 ：过程导向\n",
    "def f77(n, k):\n",
    "    ans, path = [], []\n",
    "\n",
    "    def dfs(i):\n",
    "        #dfs(i)就是在从大到小查找，决定是否放入到path[i]。\n",
    "        #子问题：\n",
    "        #下一个子问题：\n",
    "        # 剪枝就是优化，不影响基础代码\n",
    "        d = k - len(path)# 还要放d个数\n",
    "        if i < d:\n",
    "            return\n",
    "\n",
    "        if len(path) == k:\n",
    "            ans.append(path.copy())\n",
    "            return\n",
    "        \n",
    "        #选择加入：将当前数字 i 加入到 path 中，并递归调用 dfs(i-1) 继续考虑下一个数字。\n",
    "        # 选择加入\n",
    "        path.append(i)\n",
    "        dfs(i-1)\n",
    "        path.pop()\n",
    "        #选择不加入：在没有将 i 加入到 path 的情况下，直接递归调用 dfs(i-1) 继续考虑下一个数字，但这里加了一个额外的条件 if i > d:，\n",
    "        # 这意味着只有当剩余的数字数量足够以可能构成剩下的 path 时才继续搜索。\n",
    "        # 选择不加入\n",
    "        if i > d:\n",
    "            dfs(i-1)\n",
    "\n",
    "    dfs(n)\n",
    "    return ans\n",
    "\n",
    "n = 4\n",
    "k = 2\n",
    "f77(n, k)"
   ]
  },
  {
   "cell_type": "code",
   "execution_count": 13,
   "metadata": {},
   "outputs": [
    {
     "data": {
      "text/plain": [
       "[[4, 3], [4, 2], [4, 1], [3, 2], [3, 1], [2, 1]]"
      ]
     },
     "execution_count": 13,
     "metadata": {},
     "output_type": "execute_result"
    }
   ],
   "source": [
    "# 方法二：结果导向\n",
    "def f77(n, k):\n",
    "    #返回范围 [1, n] 中所有可能的 k 个数的组合。\n",
    "    ans, path = [], []\n",
    "    \n",
    "    def dfs(i):\n",
    "        # dfs(i) 是在找path[i] 从大到小（i 至 0）应该枚举的数是多少？\n",
    "        # 子问题：从n 枚举之后就是枚举i为最大的数，选择j 代表从i 至 0遍历\n",
    "        # 下一个子问题：接下去 i-i 为最大\n",
    "        d = k - len(path)\n",
    "        if i < d:\n",
    "            return\n",
    "        #剪枝是一种优化，不影响基础模型。\n",
    "        if len(path) == k:\n",
    "            ans.append(path.copy())\n",
    "            return\n",
    "\n",
    "        for j in range(i,0,-1):\n",
    "            path.append(j)\n",
    "            dfs(j-1)\n",
    "            path.pop()\n",
    "    dfs(n)\n",
    "    return ans\n",
    "\n",
    "n = 4\n",
    "k = 2\n",
    "f77(n, k)"
   ]
  },
  {
   "cell_type": "markdown",
   "metadata": {},
   "source": [
    "# 216. 组合总和 III"
   ]
  },
  {
   "cell_type": "markdown",
   "metadata": {},
   "source": [
    "找出所有相加之和为 n 的 k 个数的组合，且满足下列条件：\n",
    "\n",
    "只使用数字1到9\n",
    "每个数字 最多使用一次 \n",
    "返回 所有可能的有效组合的列表 。该列表不能包含相同的组合两次，组合可以以任何顺序返回。\n",
    "\n",
    " \n",
    "\n",
    "示例 1:\n",
    "\n",
    "输入: k = 3, n = 7\n",
    "输出: [[1,2,4]]\n",
    "解释:\n",
    "1 + 2 + 4 = 7\n",
    "没有其他符合的组合了。  \n",
    "示例 2:\n",
    "\n",
    "输入: k = 3, n = 9\n",
    "输出: [[1,2,6], [1,3,5], [2,3,4]]\n",
    "解释:\n",
    "1 + 2 + 6 = 9\n",
    "1 + 3 + 5 = 9\n",
    "2 + 3 + 4 = 9\n",
    "没有其他符合的组合了。  \n",
    "示例 3:\n",
    "\n",
    "输入: k = 4, n = 1\n",
    "输出: []\n",
    "解释: 不存在有效的组合。\n",
    "在[1,9]范围内使用4个不同的数字，我们可以得到的最小和是1+2+3+4 = 10，因为10 > 1，没有有效的组合。\n",
    " \n",
    "\n",
    "提示:\n",
    "\n",
    "2 <= k <= 9\n",
    "1 <= n <= 60"
   ]
  },
  {
   "cell_type": "code",
   "execution_count": 1,
   "metadata": {},
   "outputs": [
    {
     "data": {
      "text/plain": [
       "[[4, 2, 1]]"
      ]
     },
     "execution_count": 1,
     "metadata": {},
     "output_type": "execute_result"
    }
   ],
   "source": [
    "#方法一：选还是不选，过程思路\n",
    "def f216(k, n):\n",
    "    ans, path = [], []\n",
    "    def dfs(i, target):\n",
    "        d = k - len(path)\n",
    "        if target < 0 or target >(i*2 - d + 1) *d //2:\n",
    "            return\n",
    "        if len(path) == k:\n",
    "            ans.append(path.copy())\n",
    "            return\n",
    "        \n",
    "        path.append(i)\n",
    "        dfs(i - 1, target - i)\n",
    "        path.pop()\n",
    "\n",
    "        if i > k - len(path):\n",
    "            dfs(i-1, target)\n",
    "    dfs(9, n)\n",
    "    return ans\n",
    "k = 3\n",
    "n = 7\n",
    "f216(k, n)"
   ]
  },
  {
   "cell_type": "code",
   "execution_count": 2,
   "metadata": {},
   "outputs": [
    {
     "data": {
      "text/plain": [
       "[[4, 2, 1]]"
      ]
     },
     "execution_count": 2,
     "metadata": {},
     "output_type": "execute_result"
    }
   ],
   "source": [
    "# 方法二：结果视角，选哪一个？\n",
    "def f216(k, n):\n",
    "    ans, path = [], []\n",
    "    def dfs(i, target):\n",
    "        d = k - len(path)\n",
    "        if target < 0 or target >(i*2 - d + 1) *d //2:\n",
    "            #等差数列之和\n",
    "            return\n",
    "        if len(path) == k:\n",
    "            ans.append(path.copy())\n",
    "            return\n",
    "        for j in range(i, d-1, -1):\n",
    "            path.append(j)\n",
    "            dfs(j-1, target-j)\n",
    "            path.pop()\n",
    "    dfs(9,n)\n",
    "    return ans\n",
    "k = 3\n",
    "n = 7\n",
    "f216(k, n)"
   ]
  },
  {
   "cell_type": "markdown",
   "metadata": {},
   "source": [
    "# 22. 括号生成"
   ]
  },
  {
   "cell_type": "markdown",
   "metadata": {},
   "source": [
    "数字 n 代表生成括号的对数，请你设计一个函数，用于能够生成所有可能的并且 有效的 括号组合。\n",
    "\n",
    " \n",
    "\n",
    "示例 1：\n",
    "\n",
    "输入：n = 3\n",
    "输出：[\"((()))\",\"(()())\",\"(())()\",\"()(())\",\"()()()\"]\n",
    "示例 2：\n",
    "\n",
    "输入：n = 1\n",
    "输出：[\"()\"]\n",
    " \n",
    "\n",
    "提示：\n",
    "\n",
    "1 <= n <= 8"
   ]
  },
  {
   "cell_type": "code",
   "execution_count": 6,
   "metadata": {},
   "outputs": [
    {
     "data": {
      "text/plain": [
       "['((()))', '(()())', '(())()', '()(())', '()()()']"
      ]
     },
     "execution_count": 6,
     "metadata": {},
     "output_type": "execute_result"
    }
   ],
   "source": [
    "def f22(n):\n",
    "    ans, path = [], ['']*(2*n)\n",
    "    def dfs(i, left, right):\n",
    "        if left<right or left > n:\n",
    "            return\n",
    "        if left + right == 2*n:\n",
    "            if left == right:\n",
    "                ans.append(''.join(path))\n",
    "            return\n",
    "        path[i] = '('\n",
    "        dfs(i+1, left+1, right)\n",
    "        path[i] = ')'\n",
    "        dfs(i+1, left, right+1)\n",
    "    dfs(0,0,0)\n",
    "    return ans\n",
    "n = 3\n",
    "f22(n)"
   ]
  },
  {
   "cell_type": "code",
   "execution_count": 10,
   "metadata": {},
   "outputs": [
    {
     "data": {
      "text/plain": [
       "['((()))', '(()())', '(())()', '()(())', '()()()']"
      ]
     },
     "execution_count": 10,
     "metadata": {},
     "output_type": "execute_result"
    }
   ],
   "source": [
    "def f22(n):\n",
    "    ans, path = [], []\n",
    "    def dfs(left, right):\n",
    "        if left + right == 2*n:\n",
    "            if left == right:\n",
    "                ans.append(''.join(path))\n",
    "            return\n",
    "        if left < n:\n",
    "            path.append('(')\n",
    "            dfs(left+1, right)\n",
    "            path.pop()\n",
    "        if right < left:\n",
    "            path.append(')')\n",
    "            dfs(left, right+1)\n",
    "            path.pop()\n",
    "    dfs(0,0)\n",
    "    return ans\n",
    "n = 3\n",
    "f22(n)"
   ]
  }
 ],
 "metadata": {
  "kernelspec": {
   "display_name": "Python 3",
   "language": "python",
   "name": "python3"
  },
  "language_info": {
   "codemirror_mode": {
    "name": "ipython",
    "version": 3
   },
   "file_extension": ".py",
   "mimetype": "text/x-python",
   "name": "python",
   "nbconvert_exporter": "python",
   "pygments_lexer": "ipython3",
   "version": "3.12.1"
  }
 },
 "nbformat": 4,
 "nbformat_minor": 2
}
